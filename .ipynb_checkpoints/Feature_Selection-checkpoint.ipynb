{
 "cells": [
  {
   "cell_type": "code",
   "execution_count": 110,
   "metadata": {},
   "outputs": [
    {
     "data": {
      "text/html": [
       "<div>\n",
       "<style scoped>\n",
       "    .dataframe tbody tr th:only-of-type {\n",
       "        vertical-align: middle;\n",
       "    }\n",
       "\n",
       "    .dataframe tbody tr th {\n",
       "        vertical-align: top;\n",
       "    }\n",
       "\n",
       "    .dataframe thead th {\n",
       "        text-align: right;\n",
       "    }\n",
       "</style>\n",
       "<table border=\"1\" class=\"dataframe\">\n",
       "  <thead>\n",
       "    <tr style=\"text-align: right;\">\n",
       "      <th></th>\n",
       "      <th>ALogP</th>\n",
       "      <th>ATS0m</th>\n",
       "      <th>AATS6m</th>\n",
       "      <th>AATS8v</th>\n",
       "      <th>AATS8e</th>\n",
       "      <th>AATS1i</th>\n",
       "      <th>AATS3i</th>\n",
       "      <th>AATS2s</th>\n",
       "      <th>AATS7s</th>\n",
       "      <th>AATS8s</th>\n",
       "      <th>...</th>\n",
       "      <th>nHBDon</th>\n",
       "      <th>MIC2</th>\n",
       "      <th>ZMIC5</th>\n",
       "      <th>MDEC-33</th>\n",
       "      <th>MLFER_E</th>\n",
       "      <th>n6Ring</th>\n",
       "      <th>nHeteroRing</th>\n",
       "      <th>n6HeteroRing</th>\n",
       "      <th>SRW5</th>\n",
       "      <th>Label</th>\n",
       "    </tr>\n",
       "  </thead>\n",
       "  <tbody>\n",
       "    <tr>\n",
       "      <td>0</td>\n",
       "      <td>0.6629</td>\n",
       "      <td>3600.454537</td>\n",
       "      <td>44.378864</td>\n",
       "      <td>90.232187</td>\n",
       "      <td>7.056266</td>\n",
       "      <td>143.816368</td>\n",
       "      <td>149.961105</td>\n",
       "      <td>2.213838</td>\n",
       "      <td>1.583039</td>\n",
       "      <td>1.456019</td>\n",
       "      <td>...</td>\n",
       "      <td>1</td>\n",
       "      <td>37.802054</td>\n",
       "      <td>21.851175</td>\n",
       "      <td>10.879323</td>\n",
       "      <td>2.290</td>\n",
       "      <td>2.0</td>\n",
       "      <td>3.0</td>\n",
       "      <td>1.0</td>\n",
       "      <td>3.044522</td>\n",
       "      <td>0</td>\n",
       "    </tr>\n",
       "    <tr>\n",
       "      <td>1</td>\n",
       "      <td>-0.7616</td>\n",
       "      <td>3060.383420</td>\n",
       "      <td>34.874461</td>\n",
       "      <td>115.931991</td>\n",
       "      <td>7.295112</td>\n",
       "      <td>145.030976</td>\n",
       "      <td>154.041649</td>\n",
       "      <td>2.221871</td>\n",
       "      <td>2.351732</td>\n",
       "      <td>2.798780</td>\n",
       "      <td>...</td>\n",
       "      <td>1</td>\n",
       "      <td>35.482547</td>\n",
       "      <td>20.365592</td>\n",
       "      <td>9.646462</td>\n",
       "      <td>1.873</td>\n",
       "      <td>3.0</td>\n",
       "      <td>2.0</td>\n",
       "      <td>1.0</td>\n",
       "      <td>2.397895</td>\n",
       "      <td>0</td>\n",
       "    </tr>\n",
       "    <tr>\n",
       "      <td>2</td>\n",
       "      <td>0.5121</td>\n",
       "      <td>7331.436096</td>\n",
       "      <td>85.318863</td>\n",
       "      <td>213.989917</td>\n",
       "      <td>7.858608</td>\n",
       "      <td>149.499565</td>\n",
       "      <td>156.948782</td>\n",
       "      <td>2.744017</td>\n",
       "      <td>2.548596</td>\n",
       "      <td>2.556183</td>\n",
       "      <td>...</td>\n",
       "      <td>3</td>\n",
       "      <td>50.066343</td>\n",
       "      <td>28.691766</td>\n",
       "      <td>7.450309</td>\n",
       "      <td>3.679</td>\n",
       "      <td>2.0</td>\n",
       "      <td>2.0</td>\n",
       "      <td>0.0</td>\n",
       "      <td>3.044522</td>\n",
       "      <td>1</td>\n",
       "    </tr>\n",
       "    <tr>\n",
       "      <td>3</td>\n",
       "      <td>0.2529</td>\n",
       "      <td>4204.710985</td>\n",
       "      <td>82.695080</td>\n",
       "      <td>203.246422</td>\n",
       "      <td>7.869357</td>\n",
       "      <td>152.792389</td>\n",
       "      <td>160.368528</td>\n",
       "      <td>4.551913</td>\n",
       "      <td>3.432323</td>\n",
       "      <td>4.172222</td>\n",
       "      <td>...</td>\n",
       "      <td>1</td>\n",
       "      <td>41.726760</td>\n",
       "      <td>30.059483</td>\n",
       "      <td>4.433632</td>\n",
       "      <td>3.659</td>\n",
       "      <td>3.0</td>\n",
       "      <td>3.0</td>\n",
       "      <td>2.0</td>\n",
       "      <td>2.397895</td>\n",
       "      <td>1</td>\n",
       "    </tr>\n",
       "    <tr>\n",
       "      <td>4</td>\n",
       "      <td>-0.2762</td>\n",
       "      <td>5244.652878</td>\n",
       "      <td>82.312760</td>\n",
       "      <td>136.455622</td>\n",
       "      <td>7.899088</td>\n",
       "      <td>146.426895</td>\n",
       "      <td>159.287076</td>\n",
       "      <td>3.833240</td>\n",
       "      <td>4.070850</td>\n",
       "      <td>3.122699</td>\n",
       "      <td>...</td>\n",
       "      <td>2</td>\n",
       "      <td>45.255873</td>\n",
       "      <td>26.226152</td>\n",
       "      <td>11.051717</td>\n",
       "      <td>2.533</td>\n",
       "      <td>2.0</td>\n",
       "      <td>1.0</td>\n",
       "      <td>0.0</td>\n",
       "      <td>0.000000</td>\n",
       "      <td>0</td>\n",
       "    </tr>\n",
       "  </tbody>\n",
       "</table>\n",
       "<p>5 rows × 35 columns</p>\n",
       "</div>"
      ],
      "text/plain": [
       "    ALogP        ATS0m     AATS6m      AATS8v    AATS8e      AATS1i  \\\n",
       "0  0.6629  3600.454537  44.378864   90.232187  7.056266  143.816368   \n",
       "1 -0.7616  3060.383420  34.874461  115.931991  7.295112  145.030976   \n",
       "2  0.5121  7331.436096  85.318863  213.989917  7.858608  149.499565   \n",
       "3  0.2529  4204.710985  82.695080  203.246422  7.869357  152.792389   \n",
       "4 -0.2762  5244.652878  82.312760  136.455622  7.899088  146.426895   \n",
       "\n",
       "       AATS3i    AATS2s    AATS7s    AATS8s  ...  nHBDon       MIC2  \\\n",
       "0  149.961105  2.213838  1.583039  1.456019  ...       1  37.802054   \n",
       "1  154.041649  2.221871  2.351732  2.798780  ...       1  35.482547   \n",
       "2  156.948782  2.744017  2.548596  2.556183  ...       3  50.066343   \n",
       "3  160.368528  4.551913  3.432323  4.172222  ...       1  41.726760   \n",
       "4  159.287076  3.833240  4.070850  3.122699  ...       2  45.255873   \n",
       "\n",
       "       ZMIC5    MDEC-33  MLFER_E  n6Ring  nHeteroRing  n6HeteroRing      SRW5  \\\n",
       "0  21.851175  10.879323    2.290     2.0          3.0           1.0  3.044522   \n",
       "1  20.365592   9.646462    1.873     3.0          2.0           1.0  2.397895   \n",
       "2  28.691766   7.450309    3.679     2.0          2.0           0.0  3.044522   \n",
       "3  30.059483   4.433632    3.659     3.0          3.0           2.0  2.397895   \n",
       "4  26.226152  11.051717    2.533     2.0          1.0           0.0  0.000000   \n",
       "\n",
       "   Label  \n",
       "0      0  \n",
       "1      0  \n",
       "2      1  \n",
       "3      1  \n",
       "4      0  \n",
       "\n",
       "[5 rows x 35 columns]"
      ]
     },
     "execution_count": 110,
     "metadata": {},
     "output_type": "execute_result"
    }
   ],
   "source": [
    "import pandas as pd\n",
    "\n",
    "data_test = pd.read_csv(\"data/test.csv\")\n",
    "data_test_fitur = data_test.iloc[:,:34]\n",
    "data_test_label = data_test.iloc[:,34]\n",
    "data_test.head(5)"
   ]
  },
  {
   "cell_type": "code",
   "execution_count": 111,
   "metadata": {},
   "outputs": [
    {
     "name": "stdout",
     "output_type": "stream",
     "text": [
      "Index(['ALogP', 'ATS0m', 'AATS6m', 'AATS8v', 'AATS8e', 'AATS1i', 'AATS3i',\n",
      "       'AATS2s', 'AATS7s', 'AATS8s', 'ATSC1m', 'ATSC1i', 'ATSC3i', 'ATSC8i',\n",
      "       'AATSC0v', 'C1SP2', 'CrippenLogP', 'SaasC', 'SssNH', 'SdO', 'minHBa',\n",
      "       'maxaaN', 'MAXDN', 'MAXDP', 'ETA_dBeta', 'nHBDon', 'MIC2', 'ZMIC5',\n",
      "       'MDEC-33', 'MLFER_E', 'n6Ring', 'nHeteroRing', 'n6HeteroRing', 'SRW5'],\n",
      "      dtype='object')\n"
     ]
    },
    {
     "data": {
      "text/plain": [
       "0       0\n",
       "1       1\n",
       "2       0\n",
       "3       1\n",
       "4       1\n",
       "       ..\n",
       "1621    1\n",
       "1622    0\n",
       "1623    0\n",
       "1624    1\n",
       "1625    0\n",
       "Name: Label, Length: 1626, dtype: int64"
      ]
     },
     "execution_count": 111,
     "metadata": {},
     "output_type": "execute_result"
    }
   ],
   "source": [
    "data_train = pd.read_csv(\"data/train.csv\")\n",
    "data_train_fitur = data_train.iloc[:,:34]\n",
    "data_train_label = data_train.iloc[:,34]\n",
    "feature = data_train_fitur.columns\n",
    "print(feature)\n",
    "data_train.shape\n",
    "data_train_label"
   ]
  },
  {
   "cell_type": "code",
   "execution_count": 113,
   "metadata": {},
   "outputs": [
    {
     "name": "stdout",
     "output_type": "stream",
     "text": [
      "0      0\n",
      "1      0\n",
      "2      1\n",
      "3      1\n",
      "4      0\n",
      "      ..\n",
      "692    1\n",
      "693    0\n",
      "694    1\n",
      "695    1\n",
      "696    1\n",
      "Name: Label, Length: 697, dtype: int64\n"
     ]
    }
   ],
   "source": [
    "from sklearn.ensemble import RandomForestClassifier\n",
    "from sklearn.feature_selection import SelectFromModel\n",
    "from sklearn.model_selection import train_test_split\n",
    "\n",
    "\n",
    "#X_train, X_test, y_train, y_test = train_test_split(data_train_fitur,data_train_label,test_size=0.3)\n",
    "\n",
    "X_train = data_train_fitur\n",
    "y_train = data_train_label\n",
    "X_test = data_test_fitur\n",
    "y_test = data_test_label\n",
    "print((y_test))"
   ]
  },
  {
   "cell_type": "code",
   "execution_count": 122,
   "metadata": {},
   "outputs": [
    {
     "name": "stderr",
     "output_type": "stream",
     "text": [
      "[Parallel(n_jobs=1)]: Using backend SequentialBackend with 1 concurrent workers.\n",
      "[Parallel(n_jobs=1)]: Done 100 out of 100 | elapsed:    0.2s finished\n"
     ]
    },
    {
     "data": {
      "text/plain": [
       "RandomForestClassifier(bootstrap=True, class_weight=None, criterion='gini',\n",
       "                       max_depth=None, max_features='auto', max_leaf_nodes=None,\n",
       "                       min_impurity_decrease=0.0, min_impurity_split=None,\n",
       "                       min_samples_leaf=1, min_samples_split=2,\n",
       "                       min_weight_fraction_leaf=0.0, n_estimators=100,\n",
       "                       n_jobs=None, oob_score=False, random_state=None,\n",
       "                       verbose=1, warm_start=False)"
      ]
     },
     "execution_count": 122,
     "metadata": {},
     "output_type": "execute_result"
    }
   ],
   "source": [
    "clf =(RandomForestClassifier(n_estimators = 100, verbose = 1))\n",
    "clf.fit(X_train, y_train)\n",
    "\n"
   ]
  },
  {
   "cell_type": "code",
   "execution_count": 123,
   "metadata": {},
   "outputs": [
    {
     "name": "stdout",
     "output_type": "stream",
     "text": [
      "('ALogP', 0.006060112365418714)\n",
      "('ATS0m', 0.07419492910323129)\n",
      "('AATS6m', 0.030889004413464306)\n",
      "('AATS8v', 0.05457528636206572)\n",
      "('AATS8e', 0.024102344597123553)\n",
      "('AATS1i', 0.026673598286704788)\n",
      "('AATS3i', 0.007735503308854654)\n",
      "('AATS2s', 0.005361043577656937)\n",
      "('AATS7s', 0.008246172158072506)\n",
      "('AATS8s', 0.015527640350357166)\n",
      "('ATSC1m', 0.008260925409339832)\n",
      "('ATSC1i', 0.0050859635459621555)\n",
      "('ATSC3i', 0.005967565270246828)\n",
      "('ATSC8i', 0.005098471874687967)\n",
      "('AATSC0v', 0.010947328350795921)\n",
      "('C1SP2', 0.03437467913968047)\n",
      "('CrippenLogP', 0.012257664475739396)\n",
      "('SaasC', 0.00856496049164271)\n",
      "('SssNH', 0.07294098803928628)\n",
      "('SdO', 0.007680502575008415)\n",
      "('minHBa', 0.008271209593598705)\n",
      "('maxaaN', 0.09048050986648294)\n",
      "('MAXDN', 0.009802382671798964)\n",
      "('MAXDP', 0.011178039461662077)\n",
      "('ETA_dBeta', 0.0059292628929142254)\n",
      "('nHBDon', 0.03243267771849753)\n",
      "('MIC2', 0.10592113334337977)\n",
      "('ZMIC5', 0.015256795563927778)\n",
      "('MDEC-33', 0.03408708471600714)\n",
      "('MLFER_E', 0.19555874960175032)\n",
      "('n6Ring', 0.012784351864010229)\n",
      "('nHeteroRing', 0.03467824477736012)\n",
      "('n6HeteroRing', 0.003263290550990876)\n",
      "('SRW5', 0.015811583682279806)\n"
     ]
    }
   ],
   "source": [
    "for x in zip(feature, clf.feature_importances_):\n",
    "    print(x)"
   ]
  },
  {
   "cell_type": "code",
   "execution_count": 124,
   "metadata": {},
   "outputs": [
    {
     "name": "stderr",
     "output_type": "stream",
     "text": [
      "[Parallel(n_jobs=1)]: Using backend SequentialBackend with 1 concurrent workers.\n",
      "[Parallel(n_jobs=1)]: Done 100 out of 100 | elapsed:    0.2s finished\n"
     ]
    },
    {
     "data": {
      "text/plain": [
       "34"
      ]
     },
     "execution_count": 124,
     "metadata": {},
     "output_type": "execute_result"
    }
   ],
   "source": [
    "sfm = SelectFromModel(clf, threshold=0.015)\n",
    "\n",
    "# Train the selector\n",
    "sfm.fit(X_train, y_train)\n",
    "len(sfm.get_support())"
   ]
  },
  {
   "cell_type": "code",
   "execution_count": 125,
   "metadata": {},
   "outputs": [
    {
     "name": "stdout",
     "output_type": "stream",
     "text": [
      "ATS0m\n",
      "AATS6m\n",
      "AATS8v\n",
      "AATS8e\n",
      "AATS1i\n",
      "AATS8s\n",
      "C1SP2\n",
      "SssNH\n",
      "maxaaN\n",
      "nHBDon\n",
      "MIC2\n",
      "ZMIC5\n",
      "MDEC-33\n",
      "MLFER_E\n",
      "nHeteroRing\n"
     ]
    }
   ],
   "source": [
    "for feature_list_index in sfm.get_support(indices=True):\n",
    "    #print(feature_list_index)\n",
    "    print(feature[feature_list_index])"
   ]
  },
  {
   "cell_type": "code",
   "execution_count": 118,
   "metadata": {},
   "outputs": [],
   "source": [
    "X_important_train = sfm.transform(X_train)\n",
    "X_important_test = sfm.transform(X_test)"
   ]
  },
  {
   "cell_type": "code",
   "execution_count": 119,
   "metadata": {},
   "outputs": [
    {
     "data": {
      "text/plain": [
       "RandomForestClassifier(bootstrap=True, class_weight=None, criterion='gini',\n",
       "                       max_depth=None, max_features='auto', max_leaf_nodes=None,\n",
       "                       min_impurity_decrease=0.0, min_impurity_split=None,\n",
       "                       min_samples_leaf=1, min_samples_split=2,\n",
       "                       min_weight_fraction_leaf=0.0, n_estimators=10000,\n",
       "                       n_jobs=-1, oob_score=False, random_state=0, verbose=0,\n",
       "                       warm_start=False)"
      ]
     },
     "execution_count": 119,
     "metadata": {},
     "output_type": "execute_result"
    }
   ],
   "source": [
    "clf_important = RandomForestClassifier(n_estimators=10000, random_state=0, n_jobs=-1)\n",
    "\n",
    "# Train the new classifier on the new dataset containing the most important features\n",
    "clf_important.fit(X_important_train, y_train)"
   ]
  },
  {
   "cell_type": "code",
   "execution_count": 120,
   "metadata": {},
   "outputs": [
    {
     "data": {
      "text/plain": [
       "0.9727403156384505"
      ]
     },
     "execution_count": 120,
     "metadata": {},
     "output_type": "execute_result"
    }
   ],
   "source": [
    "from sklearn.metrics import accuracy_score\n",
    "\n",
    "y_pred = clf.predict(X_test)\n",
    "\n",
    "accuracy_score(y_test, y_pred)"
   ]
  },
  {
   "cell_type": "code",
   "execution_count": 121,
   "metadata": {},
   "outputs": [
    {
     "data": {
      "text/plain": [
       "0.9713055954088953"
      ]
     },
     "execution_count": 121,
     "metadata": {},
     "output_type": "execute_result"
    }
   ],
   "source": [
    "\n",
    "y_important_pred = clf_important.predict(X_important_test)\n",
    "\n",
    "accuracy_score(y_test, y_important_pred)"
   ]
  },
  {
   "cell_type": "code",
   "execution_count": null,
   "metadata": {},
   "outputs": [],
   "source": []
  },
  {
   "cell_type": "code",
   "execution_count": null,
   "metadata": {},
   "outputs": [],
   "source": []
  }
 ],
 "metadata": {
  "kernelspec": {
   "display_name": "Python 3",
   "language": "python",
   "name": "python3"
  },
  "language_info": {
   "codemirror_mode": {
    "name": "ipython",
    "version": 3
   },
   "file_extension": ".py",
   "mimetype": "text/x-python",
   "name": "python",
   "nbconvert_exporter": "python",
   "pygments_lexer": "ipython3",
   "version": "3.7.4"
  }
 },
 "nbformat": 4,
 "nbformat_minor": 2
}
