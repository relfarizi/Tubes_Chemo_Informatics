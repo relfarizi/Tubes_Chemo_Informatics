{
  "nbformat": 4,
  "nbformat_minor": 0,
  "metadata": {
    "kernelspec": {
      "display_name": "Python 3",
      "language": "python",
      "name": "python3"
    },
    "language_info": {
      "codemirror_mode": {
        "name": "ipython",
        "version": 3
      },
      "file_extension": ".py",
      "mimetype": "text/x-python",
      "name": "python",
      "nbconvert_exporter": "python",
      "pygments_lexer": "ipython3",
      "version": "3.7.4"
    },
    "colab": {
      "name": "Feature_Selection.ipynb",
      "provenance": []
    }
  },
  "cells": [
    {
      "cell_type": "code",
      "metadata": {
        "id": "iqv5jv5Y1f8V",
        "colab_type": "code",
        "colab": {
          "base_uri": "https://localhost:8080/",
          "height": 35
        },
        "outputId": "26054f5f-bb8d-4461-a8b4-a1c3197a7725"
      },
      "source": [
        "import pandas as pd\n",
        "\n",
        "#data_test = pd.read_csv(\"data/test.csv\")\n",
        "data_test = pd.read_csv(\"https://raw.githubusercontent.com/relfarizi/Tubes_Chemo_Informatics/master/Data/test.csv\")\n",
        "data_test_fitur = data_test.iloc[:,:34]\n",
        "data_test_label = data_test.iloc[:,34]\n",
        "data_test.shape"
      ],
      "execution_count": 32,
      "outputs": [
        {
          "output_type": "execute_result",
          "data": {
            "text/plain": [
              "(697, 35)"
            ]
          },
          "metadata": {
            "tags": []
          },
          "execution_count": 32
        }
      ]
    },
    {
      "cell_type": "markdown",
      "metadata": {
        "id": "EyWvMdBb5xhc",
        "colab_type": "text"
      },
      "source": [
        "# New Section"
      ]
    },
    {
      "cell_type": "code",
      "metadata": {
        "id": "9_EqT9gM1f9Q",
        "colab_type": "code",
        "colab": {
          "base_uri": "https://localhost:8080/",
          "height": 144
        },
        "outputId": "24a82d40-7b38-41d2-cca7-66fcc89f5298"
      },
      "source": [
        "#data_train = pd.read_csv(\"data/train.csv\")\n",
        "data_train = pd.read_csv(\"https://raw.githubusercontent.com/relfarizi/Tubes_Chemo_Informatics/master/Data/train.csv\")\n",
        "data_train_fitur = data_train.iloc[:,:34]\n",
        "data_train_label = data_train.iloc[:,34]\n",
        "feature = data_train_fitur.columns\n",
        "print(feature)\n",
        "data_train.shape\n",
        "#data_train_label"
      ],
      "execution_count": 33,
      "outputs": [
        {
          "output_type": "stream",
          "text": [
            "Index(['ALogP', 'ATS0m', 'AATS6m', 'AATS8v', 'AATS8e', 'AATS1i', 'AATS3i',\n",
            "       'AATS2s', 'AATS7s', 'AATS8s', 'ATSC1m', 'ATSC1i', 'ATSC3i', 'ATSC8i',\n",
            "       'AATSC0v', 'C1SP2', 'CrippenLogP', 'SaasC', 'SssNH', 'SdO', 'minHBa',\n",
            "       'maxaaN', 'MAXDN', 'MAXDP', 'ETA_dBeta', 'nHBDon', 'MIC2', 'ZMIC5',\n",
            "       'MDEC-33', 'MLFER_E', 'n6Ring', 'nHeteroRing', 'n6HeteroRing', 'SRW5'],\n",
            "      dtype='object')\n"
          ],
          "name": "stdout"
        },
        {
          "output_type": "execute_result",
          "data": {
            "text/plain": [
              "(1626, 35)"
            ]
          },
          "metadata": {
            "tags": []
          },
          "execution_count": 33
        }
      ]
    },
    {
      "cell_type": "code",
      "metadata": {
        "id": "1OcHMVl_1f91",
        "colab_type": "code",
        "colab": {
          "base_uri": "https://localhost:8080/",
          "height": 235
        },
        "outputId": "1e7575b3-f3d8-4181-da22-d19d96f0b6ea"
      },
      "source": [
        "from sklearn.ensemble import RandomForestClassifier\n",
        "from sklearn.feature_selection import SelectFromModel\n",
        "from sklearn.model_selection import train_test_split\n",
        "\n",
        "\n",
        "#X_train, X_test, y_train, y_test = train_test_split(data_train_fitur,data_train_label,test_size=0.3)\n",
        "\n",
        "X_train = data_train_fitur\n",
        "y_train = data_train_label\n",
        "X_test = data_test_fitur\n",
        "y_test = data_test_label\n",
        "print((y_test))"
      ],
      "execution_count": 6,
      "outputs": [
        {
          "output_type": "stream",
          "text": [
            "0      0\n",
            "1      0\n",
            "2      1\n",
            "3      1\n",
            "4      0\n",
            "      ..\n",
            "692    1\n",
            "693    0\n",
            "694    1\n",
            "695    1\n",
            "696    1\n",
            "Name: Label, Length: 697, dtype: int64\n"
          ],
          "name": "stdout"
        }
      ]
    },
    {
      "cell_type": "code",
      "metadata": {
        "id": "lGuE4k_91f-R",
        "colab_type": "code",
        "colab": {
          "base_uri": "https://localhost:8080/",
          "height": 198
        },
        "outputId": "1993ae10-550d-4656-be78-c91ae3300d08"
      },
      "source": [
        "clf =(RandomForestClassifier(n_estimators = 100, verbose = 1))\n",
        "clf.fit(X_train, y_train)\n",
        "\n"
      ],
      "execution_count": 7,
      "outputs": [
        {
          "output_type": "stream",
          "text": [
            "[Parallel(n_jobs=1)]: Using backend SequentialBackend with 1 concurrent workers.\n",
            "[Parallel(n_jobs=1)]: Done 100 out of 100 | elapsed:    0.4s finished\n"
          ],
          "name": "stderr"
        },
        {
          "output_type": "execute_result",
          "data": {
            "text/plain": [
              "RandomForestClassifier(bootstrap=True, ccp_alpha=0.0, class_weight=None,\n",
              "                       criterion='gini', max_depth=None, max_features='auto',\n",
              "                       max_leaf_nodes=None, max_samples=None,\n",
              "                       min_impurity_decrease=0.0, min_impurity_split=None,\n",
              "                       min_samples_leaf=1, min_samples_split=2,\n",
              "                       min_weight_fraction_leaf=0.0, n_estimators=100,\n",
              "                       n_jobs=None, oob_score=False, random_state=None,\n",
              "                       verbose=1, warm_start=False)"
            ]
          },
          "metadata": {
            "tags": []
          },
          "execution_count": 7
        }
      ]
    },
    {
      "cell_type": "code",
      "metadata": {
        "id": "Jm60_vUT1f-k",
        "colab_type": "code",
        "colab": {
          "base_uri": "https://localhost:8080/",
          "height": 633
        },
        "outputId": "6ec808ed-47f6-4c41-fa41-442350592e7e"
      },
      "source": [
        "for x in zip(feature, clf.feature_importances_):\n",
        "    print(x)"
      ],
      "execution_count": 8,
      "outputs": [
        {
          "output_type": "stream",
          "text": [
            "('ALogP', 0.006660876269993916)\n",
            "('ATS0m', 0.08519258069683594)\n",
            "('AATS6m', 0.030902658868332322)\n",
            "('AATS8v', 0.055825801727051025)\n",
            "('AATS8e', 0.024074195626533502)\n",
            "('AATS1i', 0.019770716449968986)\n",
            "('AATS3i', 0.009318867901698707)\n",
            "('AATS2s', 0.005889391203247362)\n",
            "('AATS7s', 0.009124727385955362)\n",
            "('AATS8s', 0.018816935791990227)\n",
            "('ATSC1m', 0.009895789148288344)\n",
            "('ATSC1i', 0.0061935336106611364)\n",
            "('ATSC3i', 0.005406690628382345)\n",
            "('ATSC8i', 0.00460544206908981)\n",
            "('AATSC0v', 0.009810836885633127)\n",
            "('C1SP2', 0.03731276918375486)\n",
            "('CrippenLogP', 0.008215633167108027)\n",
            "('SaasC', 0.009155407965669705)\n",
            "('SssNH', 0.09959877165796843)\n",
            "('SdO', 0.011743903740134842)\n",
            "('minHBa', 0.014216918932194789)\n",
            "('maxaaN', 0.07851726245416094)\n",
            "('MAXDN', 0.008782253462699617)\n",
            "('MAXDP', 0.008224327927578568)\n",
            "('ETA_dBeta', 0.007940806842191197)\n",
            "('nHBDon', 0.02734992731150662)\n",
            "('MIC2', 0.10676595324773508)\n",
            "('ZMIC5', 0.013899805869306227)\n",
            "('MDEC-33', 0.03682197469657188)\n",
            "('MLFER_E', 0.17754940594402172)\n",
            "('n6Ring', 0.005574835688767402)\n",
            "('nHeteroRing', 0.029358863783639895)\n",
            "('n6HeteroRing', 0.004949380748647609)\n",
            "('SRW5', 0.012532753112680489)\n"
          ],
          "name": "stdout"
        }
      ]
    },
    {
      "cell_type": "code",
      "metadata": {
        "id": "sXbuG32E1f_G",
        "colab_type": "code",
        "colab": {
          "base_uri": "https://localhost:8080/",
          "height": 72
        },
        "outputId": "c725212a-699a-40fe-f90d-61f3c89b9624"
      },
      "source": [
        "sfm = SelectFromModel(clf, threshold=0.015)\n",
        "# Train the selector\n",
        "sfm.fit(X_train, y_train)\n",
        "len(sfm.get_support())"
      ],
      "execution_count": 11,
      "outputs": [
        {
          "output_type": "stream",
          "text": [
            "[Parallel(n_jobs=1)]: Using backend SequentialBackend with 1 concurrent workers.\n",
            "[Parallel(n_jobs=1)]: Done 100 out of 100 | elapsed:    0.4s finished\n"
          ],
          "name": "stderr"
        },
        {
          "output_type": "execute_result",
          "data": {
            "text/plain": [
              "34"
            ]
          },
          "metadata": {
            "tags": []
          },
          "execution_count": 11
        }
      ]
    },
    {
      "cell_type": "code",
      "metadata": {
        "id": "ftMeaHPO1f_T",
        "colab_type": "code",
        "colab": {
          "base_uri": "https://localhost:8080/",
          "height": 466
        },
        "outputId": "bca905f7-22f9-4a6f-e05b-e29d8d979cef"
      },
      "source": [
        "feature_selected = []\n",
        "for feature_list_index in sfm.get_support(indices=True):\n",
        "    #print(feature_list_index)\n",
        "    #print(feature[feature_list_index])\n",
        "    feature_selected.append(feature[feature_list_index])\n",
        "\n",
        "data = data_train.loc[:,[x for x in feature_selected]]\n",
        "correlation = data.corr()\n",
        "correlation"
      ],
      "execution_count": 16,
      "outputs": [
        {
          "output_type": "execute_result",
          "data": {
            "text/html": [
              "<div>\n",
              "<style scoped>\n",
              "    .dataframe tbody tr th:only-of-type {\n",
              "        vertical-align: middle;\n",
              "    }\n",
              "\n",
              "    .dataframe tbody tr th {\n",
              "        vertical-align: top;\n",
              "    }\n",
              "\n",
              "    .dataframe thead th {\n",
              "        text-align: right;\n",
              "    }\n",
              "</style>\n",
              "<table border=\"1\" class=\"dataframe\">\n",
              "  <thead>\n",
              "    <tr style=\"text-align: right;\">\n",
              "      <th></th>\n",
              "      <th>ATS0m</th>\n",
              "      <th>AATS6m</th>\n",
              "      <th>AATS8v</th>\n",
              "      <th>AATS8e</th>\n",
              "      <th>AATS1i</th>\n",
              "      <th>C1SP2</th>\n",
              "      <th>SssNH</th>\n",
              "      <th>maxaaN</th>\n",
              "      <th>nHBDon</th>\n",
              "      <th>MIC2</th>\n",
              "      <th>MDEC-33</th>\n",
              "      <th>MLFER_E</th>\n",
              "      <th>nHeteroRing</th>\n",
              "      <th>SRW5</th>\n",
              "    </tr>\n",
              "  </thead>\n",
              "  <tbody>\n",
              "    <tr>\n",
              "      <th>ATS0m</th>\n",
              "      <td>1.000000</td>\n",
              "      <td>0.584871</td>\n",
              "      <td>0.451057</td>\n",
              "      <td>0.148712</td>\n",
              "      <td>0.022330</td>\n",
              "      <td>0.322347</td>\n",
              "      <td>0.399633</td>\n",
              "      <td>0.332049</td>\n",
              "      <td>0.289095</td>\n",
              "      <td>0.766824</td>\n",
              "      <td>0.268487</td>\n",
              "      <td>0.529192</td>\n",
              "      <td>0.222314</td>\n",
              "      <td>0.093243</td>\n",
              "    </tr>\n",
              "    <tr>\n",
              "      <th>AATS6m</th>\n",
              "      <td>0.584871</td>\n",
              "      <td>1.000000</td>\n",
              "      <td>0.478647</td>\n",
              "      <td>0.251580</td>\n",
              "      <td>0.026673</td>\n",
              "      <td>0.245401</td>\n",
              "      <td>0.244620</td>\n",
              "      <td>0.230400</td>\n",
              "      <td>0.239307</td>\n",
              "      <td>0.741972</td>\n",
              "      <td>0.278121</td>\n",
              "      <td>0.389039</td>\n",
              "      <td>0.128013</td>\n",
              "      <td>0.146949</td>\n",
              "    </tr>\n",
              "    <tr>\n",
              "      <th>AATS8v</th>\n",
              "      <td>0.451057</td>\n",
              "      <td>0.478647</td>\n",
              "      <td>1.000000</td>\n",
              "      <td>0.567165</td>\n",
              "      <td>0.019883</td>\n",
              "      <td>0.385699</td>\n",
              "      <td>0.418940</td>\n",
              "      <td>0.409659</td>\n",
              "      <td>0.284981</td>\n",
              "      <td>0.553648</td>\n",
              "      <td>0.309862</td>\n",
              "      <td>0.615735</td>\n",
              "      <td>0.308506</td>\n",
              "      <td>0.267195</td>\n",
              "    </tr>\n",
              "    <tr>\n",
              "      <th>AATS8e</th>\n",
              "      <td>0.148712</td>\n",
              "      <td>0.251580</td>\n",
              "      <td>0.567165</td>\n",
              "      <td>1.000000</td>\n",
              "      <td>0.027334</td>\n",
              "      <td>0.144266</td>\n",
              "      <td>0.170307</td>\n",
              "      <td>0.113744</td>\n",
              "      <td>0.182795</td>\n",
              "      <td>0.259343</td>\n",
              "      <td>0.215332</td>\n",
              "      <td>0.254222</td>\n",
              "      <td>0.124469</td>\n",
              "      <td>0.089241</td>\n",
              "    </tr>\n",
              "    <tr>\n",
              "      <th>AATS1i</th>\n",
              "      <td>0.022330</td>\n",
              "      <td>0.026673</td>\n",
              "      <td>0.019883</td>\n",
              "      <td>0.027334</td>\n",
              "      <td>1.000000</td>\n",
              "      <td>0.331792</td>\n",
              "      <td>0.393611</td>\n",
              "      <td>0.448530</td>\n",
              "      <td>0.444331</td>\n",
              "      <td>0.133874</td>\n",
              "      <td>-0.095368</td>\n",
              "      <td>0.225114</td>\n",
              "      <td>0.307547</td>\n",
              "      <td>0.153927</td>\n",
              "    </tr>\n",
              "    <tr>\n",
              "      <th>C1SP2</th>\n",
              "      <td>0.322347</td>\n",
              "      <td>0.245401</td>\n",
              "      <td>0.385699</td>\n",
              "      <td>0.144266</td>\n",
              "      <td>0.331792</td>\n",
              "      <td>1.000000</td>\n",
              "      <td>0.453720</td>\n",
              "      <td>0.609619</td>\n",
              "      <td>0.176645</td>\n",
              "      <td>0.428115</td>\n",
              "      <td>0.251635</td>\n",
              "      <td>0.585807</td>\n",
              "      <td>0.710634</td>\n",
              "      <td>0.430434</td>\n",
              "    </tr>\n",
              "    <tr>\n",
              "      <th>SssNH</th>\n",
              "      <td>0.399633</td>\n",
              "      <td>0.244620</td>\n",
              "      <td>0.418940</td>\n",
              "      <td>0.170307</td>\n",
              "      <td>0.393611</td>\n",
              "      <td>0.453720</td>\n",
              "      <td>1.000000</td>\n",
              "      <td>0.466506</td>\n",
              "      <td>0.630323</td>\n",
              "      <td>0.406729</td>\n",
              "      <td>0.185181</td>\n",
              "      <td>0.588320</td>\n",
              "      <td>0.379462</td>\n",
              "      <td>0.248232</td>\n",
              "    </tr>\n",
              "    <tr>\n",
              "      <th>maxaaN</th>\n",
              "      <td>0.332049</td>\n",
              "      <td>0.230400</td>\n",
              "      <td>0.409659</td>\n",
              "      <td>0.113744</td>\n",
              "      <td>0.448530</td>\n",
              "      <td>0.609619</td>\n",
              "      <td>0.466506</td>\n",
              "      <td>1.000000</td>\n",
              "      <td>0.258092</td>\n",
              "      <td>0.430950</td>\n",
              "      <td>0.148047</td>\n",
              "      <td>0.662881</td>\n",
              "      <td>0.549211</td>\n",
              "      <td>0.325147</td>\n",
              "    </tr>\n",
              "    <tr>\n",
              "      <th>nHBDon</th>\n",
              "      <td>0.289095</td>\n",
              "      <td>0.239307</td>\n",
              "      <td>0.284981</td>\n",
              "      <td>0.182795</td>\n",
              "      <td>0.444331</td>\n",
              "      <td>0.176645</td>\n",
              "      <td>0.630323</td>\n",
              "      <td>0.258092</td>\n",
              "      <td>1.000000</td>\n",
              "      <td>0.377189</td>\n",
              "      <td>0.305753</td>\n",
              "      <td>0.455228</td>\n",
              "      <td>0.134611</td>\n",
              "      <td>0.153396</td>\n",
              "    </tr>\n",
              "    <tr>\n",
              "      <th>MIC2</th>\n",
              "      <td>0.766824</td>\n",
              "      <td>0.741972</td>\n",
              "      <td>0.553648</td>\n",
              "      <td>0.259343</td>\n",
              "      <td>0.133874</td>\n",
              "      <td>0.428115</td>\n",
              "      <td>0.406729</td>\n",
              "      <td>0.430950</td>\n",
              "      <td>0.377189</td>\n",
              "      <td>1.000000</td>\n",
              "      <td>0.454457</td>\n",
              "      <td>0.638344</td>\n",
              "      <td>0.354737</td>\n",
              "      <td>0.262958</td>\n",
              "    </tr>\n",
              "    <tr>\n",
              "      <th>MDEC-33</th>\n",
              "      <td>0.268487</td>\n",
              "      <td>0.278121</td>\n",
              "      <td>0.309862</td>\n",
              "      <td>0.215332</td>\n",
              "      <td>-0.095368</td>\n",
              "      <td>0.251635</td>\n",
              "      <td>0.185181</td>\n",
              "      <td>0.148047</td>\n",
              "      <td>0.305753</td>\n",
              "      <td>0.454457</td>\n",
              "      <td>1.000000</td>\n",
              "      <td>0.538642</td>\n",
              "      <td>0.401179</td>\n",
              "      <td>0.341073</td>\n",
              "    </tr>\n",
              "    <tr>\n",
              "      <th>MLFER_E</th>\n",
              "      <td>0.529192</td>\n",
              "      <td>0.389039</td>\n",
              "      <td>0.615735</td>\n",
              "      <td>0.254222</td>\n",
              "      <td>0.225114</td>\n",
              "      <td>0.585807</td>\n",
              "      <td>0.588320</td>\n",
              "      <td>0.662881</td>\n",
              "      <td>0.455228</td>\n",
              "      <td>0.638344</td>\n",
              "      <td>0.538642</td>\n",
              "      <td>1.000000</td>\n",
              "      <td>0.672172</td>\n",
              "      <td>0.411223</td>\n",
              "    </tr>\n",
              "    <tr>\n",
              "      <th>nHeteroRing</th>\n",
              "      <td>0.222314</td>\n",
              "      <td>0.128013</td>\n",
              "      <td>0.308506</td>\n",
              "      <td>0.124469</td>\n",
              "      <td>0.307547</td>\n",
              "      <td>0.710634</td>\n",
              "      <td>0.379462</td>\n",
              "      <td>0.549211</td>\n",
              "      <td>0.134611</td>\n",
              "      <td>0.354737</td>\n",
              "      <td>0.401179</td>\n",
              "      <td>0.672172</td>\n",
              "      <td>1.000000</td>\n",
              "      <td>0.549675</td>\n",
              "    </tr>\n",
              "    <tr>\n",
              "      <th>SRW5</th>\n",
              "      <td>0.093243</td>\n",
              "      <td>0.146949</td>\n",
              "      <td>0.267195</td>\n",
              "      <td>0.089241</td>\n",
              "      <td>0.153927</td>\n",
              "      <td>0.430434</td>\n",
              "      <td>0.248232</td>\n",
              "      <td>0.325147</td>\n",
              "      <td>0.153396</td>\n",
              "      <td>0.262958</td>\n",
              "      <td>0.341073</td>\n",
              "      <td>0.411223</td>\n",
              "      <td>0.549675</td>\n",
              "      <td>1.000000</td>\n",
              "    </tr>\n",
              "  </tbody>\n",
              "</table>\n",
              "</div>"
            ],
            "text/plain": [
              "                ATS0m    AATS6m    AATS8v  ...   MLFER_E  nHeteroRing      SRW5\n",
              "ATS0m        1.000000  0.584871  0.451057  ...  0.529192     0.222314  0.093243\n",
              "AATS6m       0.584871  1.000000  0.478647  ...  0.389039     0.128013  0.146949\n",
              "AATS8v       0.451057  0.478647  1.000000  ...  0.615735     0.308506  0.267195\n",
              "AATS8e       0.148712  0.251580  0.567165  ...  0.254222     0.124469  0.089241\n",
              "AATS1i       0.022330  0.026673  0.019883  ...  0.225114     0.307547  0.153927\n",
              "C1SP2        0.322347  0.245401  0.385699  ...  0.585807     0.710634  0.430434\n",
              "SssNH        0.399633  0.244620  0.418940  ...  0.588320     0.379462  0.248232\n",
              "maxaaN       0.332049  0.230400  0.409659  ...  0.662881     0.549211  0.325147\n",
              "nHBDon       0.289095  0.239307  0.284981  ...  0.455228     0.134611  0.153396\n",
              "MIC2         0.766824  0.741972  0.553648  ...  0.638344     0.354737  0.262958\n",
              "MDEC-33      0.268487  0.278121  0.309862  ...  0.538642     0.401179  0.341073\n",
              "MLFER_E      0.529192  0.389039  0.615735  ...  1.000000     0.672172  0.411223\n",
              "nHeteroRing  0.222314  0.128013  0.308506  ...  0.672172     1.000000  0.549675\n",
              "SRW5         0.093243  0.146949  0.267195  ...  0.411223     0.549675  1.000000\n",
              "\n",
              "[14 rows x 14 columns]"
            ]
          },
          "metadata": {
            "tags": []
          },
          "execution_count": 16
        }
      ]
    },
    {
      "cell_type": "code",
      "metadata": {
        "id": "PyPMDOaM7Y-f",
        "colab_type": "code",
        "colab": {
          "base_uri": "https://localhost:8080/",
          "height": 666
        },
        "outputId": "00f2d8b2-6d30-4a40-cf6d-078c87b1c0f4"
      },
      "source": [
        "import matplotlib.pyplot as plt\n",
        "import seaborn as sns\n",
        "\n",
        "f,ax = plt.subplots(figsize=(15,10))\n",
        "sns.heatmap(correlation, annot=True, linewidths=.5, fmt='.2f', ax=ax)\n",
        "plt.show"
      ],
      "execution_count": 22,
      "outputs": [
        {
          "output_type": "execute_result",
          "data": {
            "text/plain": [
              "<function matplotlib.pyplot.show>"
            ]
          },
          "metadata": {
            "tags": []
          },
          "execution_count": 22
        },
        {
          "output_type": "display_data",
          "data": {
            "image/png": "[encoded data removed]",
            "text/plain": [
              "<Figure size 1080x720 with 2 Axes>"
            ]
          },
          "metadata": {
            "tags": []
          }
        }
      ]
    },
    {
      "cell_type": "code",
      "metadata": {
        "id": "u1QyqZ5a1f_l",
        "colab_type": "code",
        "colab": {}
      },
      "source": [
        "X_important_train = sfm.transform(X_train)\n",
        "X_important_test = sfm.transform(X_test)"
      ],
      "execution_count": 0,
      "outputs": []
    },
    {
      "cell_type": "code",
      "metadata": {
        "id": "27nkbjEn1f_o",
        "colab_type": "code",
        "colab": {
          "base_uri": "https://localhost:8080/",
          "height": 162
        },
        "outputId": "347fa9f0-4c57-4e7b-97f8-8a4a987dc489"
      },
      "source": [
        "clf_important = RandomForestClassifier(n_estimators=10000, random_state=0, n_jobs=-1)\n",
        "\n",
        "# Train the new classifier on the new dataset containing the most important features\n",
        "clf_important.fit(X_important_train, y_train)"
      ],
      "execution_count": 25,
      "outputs": [
        {
          "output_type": "execute_result",
          "data": {
            "text/plain": [
              "RandomForestClassifier(bootstrap=True, ccp_alpha=0.0, class_weight=None,\n",
              "                       criterion='gini', max_depth=None, max_features='auto',\n",
              "                       max_leaf_nodes=None, max_samples=None,\n",
              "                       min_impurity_decrease=0.0, min_impurity_split=None,\n",
              "                       min_samples_leaf=1, min_samples_split=2,\n",
              "                       min_weight_fraction_leaf=0.0, n_estimators=10000,\n",
              "                       n_jobs=-1, oob_score=False, random_state=0, verbose=0,\n",
              "                       warm_start=False)"
            ]
          },
          "metadata": {
            "tags": []
          },
          "execution_count": 25
        }
      ]
    },
    {
      "cell_type": "code",
      "metadata": {
        "id": "MR6uGBZa1f_q",
        "colab_type": "code",
        "colab": {
          "base_uri": "https://localhost:8080/",
          "height": 35
        },
        "outputId": "a32c90d2-dcea-457f-d4ef-f8fec9932dd8"
      },
      "source": [
        "from sklearn.metrics import accuracy_score\n",
        "\n",
        "y_pred = clf_important.predict(X_important_test)\n",
        "\n",
        "accuracy_score(y_test, y_pred)"
      ],
      "execution_count": 27,
      "outputs": [
        {
          "output_type": "execute_result",
          "data": {
            "text/plain": [
              "0.9727403156384505"
            ]
          },
          "metadata": {
            "tags": []
          },
          "execution_count": 27
        }
      ]
    },
    {
      "cell_type": "code",
      "metadata": {
        "id": "tY_vFmf51f_z",
        "colab_type": "code",
        "colab": {
          "base_uri": "https://localhost:8080/",
          "height": 35
        },
        "outputId": "9d418149-0d0b-4988-d0ad-7eeb8fd4e3ca"
      },
      "source": [
        "\n",
        "y_important_pred = clf_important.predict(X_important_train)\n",
        "\n",
        "accuracy_score(y_train, y_important_pred)"
      ],
      "execution_count": 28,
      "outputs": [
        {
          "output_type": "execute_result",
          "data": {
            "text/plain": [
              "1.0"
            ]
          },
          "metadata": {
            "tags": []
          },
          "execution_count": 28
        }
      ]
    },
    {
      "cell_type": "code",
      "metadata": {
        "id": "iYdwx6Iu1f_4",
        "colab_type": "code",
        "colab": {
          "base_uri": "https://localhost:8080/",
          "height": 35
        },
        "outputId": "4f698c5a-00cc-43e9-f2f2-116203a898e0"
      },
      "source": [
        "from xgboost import XGBClassifier\n",
        "\n",
        "model_1 = XGBClassifier()\n",
        "\n",
        "model_1.fit(X_important_train,y_train)\n",
        "\n",
        "y_pred_train_model_1 = model_1.predict(X_important_train)\n",
        "\n",
        "accuracy_score(y_pred_train_model_1,y_train)"
      ],
      "execution_count": 37,
      "outputs": [
        {
          "output_type": "execute_result",
          "data": {
            "text/plain": [
              "0.9969249692496925"
            ]
          },
          "metadata": {
            "tags": []
          },
          "execution_count": 37
        }
      ]
    },
    {
      "cell_type": "code",
      "metadata": {
        "id": "_Ahew8LgBkYz",
        "colab_type": "code",
        "colab": {
          "base_uri": "https://localhost:8080/",
          "height": 126
        },
        "outputId": "c378cd1c-cc11-4da2-eecf-9e16a575689e"
      },
      "source": [
        "from sklearn.metrics import confusion_matrix\n",
        "\n",
        "con_matrix = confusion_matrix(y_pred_train_model_1, y_train)\n",
        "\n",
        "tp, fp, fn, tn = con_matrix.ravel()\n",
        "\n",
        "print(con_matrix)\n",
        "print(tp, fp, fn, tn)\n",
        "precision = tp/(tp+fp)\n",
        "print(\"precision = \", precision)\n",
        "\n",
        "recall = tp/(tp+fn)\n",
        "print(\"recall = \", recall)\n",
        "\n",
        "f1 = (2*recall*precision)/(recall+precision)\n",
        "print(\"f1 = \",f1)\n"
      ],
      "execution_count": 48,
      "outputs": [
        {
          "output_type": "stream",
          "text": [
            "[[815   1]\n",
            " [  4 806]]\n",
            "815 1 4 806\n",
            "precision =  0.9987745098039216\n",
            "recall =  0.9951159951159951\n",
            "f1 =  0.9969418960244649\n"
          ],
          "name": "stdout"
        }
      ]
    },
    {
      "cell_type": "code",
      "metadata": {
        "id": "40_mp-0N1f_9",
        "colab_type": "code",
        "colab": {
          "base_uri": "https://localhost:8080/",
          "height": 35
        },
        "outputId": "10d6c082-aa3a-4871-f752-da4a9da61423"
      },
      "source": [
        "y_pred_test_model_1 = model_1.predict(X_important_test)\n",
        "\n",
        "accuracy_score(y_pred_test_model_1,y_test)"
      ],
      "execution_count": 31,
      "outputs": [
        {
          "output_type": "execute_result",
          "data": {
            "text/plain": [
              "0.9727403156384505"
            ]
          },
          "metadata": {
            "tags": []
          },
          "execution_count": 31
        }
      ]
    },
    {
      "cell_type": "code",
      "metadata": {
        "id": "ZpIcbV8H_J2B",
        "colab_type": "code",
        "colab": {
          "base_uri": "https://localhost:8080/",
          "height": 126
        },
        "outputId": "78828e83-d787-49b1-c805-d57979085776"
      },
      "source": [
        "con_matrix = confusion_matrix(y_pred_test_model_1, y_test)\n",
        "\n",
        "tp, fp, fn, tn = con_matrix.ravel()\n",
        "\n",
        "print(con_matrix)\n",
        "print(tp, fp, fn, tn)\n",
        "precision = tp/(tp+fp)\n",
        "print(\"precision = \", precision)\n",
        "\n",
        "recall = tp/(tp+fn)\n",
        "print(\"recall = \", recall)\n",
        "\n",
        "f1 = (2*recall*precision)/(recall+precision)\n",
        "print(\"f1 = \",f1)\n"
      ],
      "execution_count": 47,
      "outputs": [
        {
          "output_type": "stream",
          "text": [
            "[[338  12]\n",
            " [  7 340]]\n",
            "338 12 7 340\n",
            "precision =  0.9657142857142857\n",
            "recall =  0.9797101449275363\n",
            "f1 =  0.9726618705035971\n"
          ],
          "name": "stdout"
        }
      ]
    },
    {
      "cell_type": "code",
      "metadata": {
        "id": "dnAtIf7BDMd2",
        "colab_type": "code",
        "colab": {}
      },
      "source": [
        ""
      ],
      "execution_count": 0,
      "outputs": []
    }
  ]
}