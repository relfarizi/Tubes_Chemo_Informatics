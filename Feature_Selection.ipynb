{
  "nbformat": 4,
  "nbformat_minor": 0,
  "metadata": {
    "kernelspec": {
      "display_name": "Python 3",
      "language": "python",
      "name": "python3"
    },
    "language_info": {
      "codemirror_mode": {
        "name": "ipython",
        "version": 3
      },
      "file_extension": ".py",
      "mimetype": "text/x-python",
      "name": "python",
      "nbconvert_exporter": "python",
      "pygments_lexer": "ipython3",
      "version": "3.7.4-final"
    },
    "colab": {
      "name": "Feature_Selection.ipynb",
      "provenance": []
    }
  },
  "cells": [
    {
      "cell_type": "markdown",
      "metadata": {
        "id": "EyWvMdBb5xhc",
        "colab_type": "text"
      },
      "source": [
        "## Load Data"
      ]
    },
    {
      "cell_type": "markdown",
      "metadata": {
        "id": "o6n0D9OuHO7f",
        "colab_type": "text"
      },
      "source": [
        "### Data test"
      ]
    },
    {
      "cell_type": "code",
      "metadata": {
        "id": "9_EqT9gM1f9Q",
        "colab_type": "code",
        "outputId": "b67c45f3-f698-4a34-c4e5-03a31742ae5c",
        "colab": {
          "base_uri": "https://localhost:8080/",
          "height": 217
        }
      },
      "source": [
        "data_train = pd.read_csv(link+\"train.csv\")\n",
        "data_train_fitur = data_train.iloc[:,:34]\n",
        "data_train_label = data_train.iloc[:,34]\n",
        "feature = data_train_fitur.columns\n",
        "data_train.head(5)\n"
      ],
      "execution_count": 42,
      "outputs": [
        {
          "output_type": "execute_result",
          "data": {
            "text/html": [
              "<div>\n",
              "<style scoped>\n",
              "    .dataframe tbody tr th:only-of-type {\n",
              "        vertical-align: middle;\n",
              "    }\n",
              "\n",
              "    .dataframe tbody tr th {\n",
              "        vertical-align: top;\n",
              "    }\n",
              "\n",
              "    .dataframe thead th {\n",
              "        text-align: right;\n",
              "    }\n",
              "</style>\n",
              "<table border=\"1\" class=\"dataframe\">\n",
              "  <thead>\n",
              "    <tr style=\"text-align: right;\">\n",
              "      <th></th>\n",
              "      <th>ALogP</th>\n",
              "      <th>ATS0m</th>\n",
              "      <th>AATS6m</th>\n",
              "      <th>AATS8v</th>\n",
              "      <th>AATS8e</th>\n",
              "      <th>AATS1i</th>\n",
              "      <th>AATS3i</th>\n",
              "      <th>AATS2s</th>\n",
              "      <th>AATS7s</th>\n",
              "      <th>AATS8s</th>\n",
              "      <th>ATSC1m</th>\n",
              "      <th>ATSC1i</th>\n",
              "      <th>ATSC3i</th>\n",
              "      <th>ATSC8i</th>\n",
              "      <th>AATSC0v</th>\n",
              "      <th>C1SP2</th>\n",
              "      <th>CrippenLogP</th>\n",
              "      <th>SaasC</th>\n",
              "      <th>SssNH</th>\n",
              "      <th>SdO</th>\n",
              "      <th>minHBa</th>\n",
              "      <th>maxaaN</th>\n",
              "      <th>MAXDN</th>\n",
              "      <th>MAXDP</th>\n",
              "      <th>ETA_dBeta</th>\n",
              "      <th>nHBDon</th>\n",
              "      <th>MIC2</th>\n",
              "      <th>ZMIC5</th>\n",
              "      <th>MDEC-33</th>\n",
              "      <th>MLFER_E</th>\n",
              "      <th>n6Ring</th>\n",
              "      <th>nHeteroRing</th>\n",
              "      <th>n6HeteroRing</th>\n",
              "      <th>SRW5</th>\n",
              "      <th>Label</th>\n",
              "    </tr>\n",
              "  </thead>\n",
              "  <tbody>\n",
              "    <tr>\n",
              "      <th>0</th>\n",
              "      <td>-0.9195</td>\n",
              "      <td>2588.934432</td>\n",
              "      <td>48.158117</td>\n",
              "      <td>178.551366</td>\n",
              "      <td>7.519247</td>\n",
              "      <td>149.013676</td>\n",
              "      <td>161.485521</td>\n",
              "      <td>3.284722</td>\n",
              "      <td>3.060185</td>\n",
              "      <td>2.833333</td>\n",
              "      <td>10.143350</td>\n",
              "      <td>-7.363836</td>\n",
              "      <td>-14.367302</td>\n",
              "      <td>3.665693</td>\n",
              "      <td>49.264888</td>\n",
              "      <td>2</td>\n",
              "      <td>1.88109</td>\n",
              "      <td>1.405937</td>\n",
              "      <td>2.970667</td>\n",
              "      <td>0.000000</td>\n",
              "      <td>2.970667</td>\n",
              "      <td>4.011032</td>\n",
              "      <td>1.884254</td>\n",
              "      <td>3.863775</td>\n",
              "      <td>2.25</td>\n",
              "      <td>2</td>\n",
              "      <td>30.767343</td>\n",
              "      <td>24.812853</td>\n",
              "      <td>1.310371</td>\n",
              "      <td>1.985</td>\n",
              "      <td>2.0</td>\n",
              "      <td>1.0</td>\n",
              "      <td>1.0</td>\n",
              "      <td>0.000000</td>\n",
              "      <td>0</td>\n",
              "    </tr>\n",
              "    <tr>\n",
              "      <th>1</th>\n",
              "      <td>0.4614</td>\n",
              "      <td>5634.103006</td>\n",
              "      <td>94.201531</td>\n",
              "      <td>196.140696</td>\n",
              "      <td>7.581138</td>\n",
              "      <td>146.305448</td>\n",
              "      <td>158.591102</td>\n",
              "      <td>2.332989</td>\n",
              "      <td>1.925086</td>\n",
              "      <td>2.089559</td>\n",
              "      <td>227.694609</td>\n",
              "      <td>-5.871438</td>\n",
              "      <td>-44.012942</td>\n",
              "      <td>-14.913076</td>\n",
              "      <td>53.706977</td>\n",
              "      <td>4</td>\n",
              "      <td>5.08288</td>\n",
              "      <td>4.956805</td>\n",
              "      <td>3.627957</td>\n",
              "      <td>0.000000</td>\n",
              "      <td>-1.105045</td>\n",
              "      <td>4.651758</td>\n",
              "      <td>1.753193</td>\n",
              "      <td>3.792565</td>\n",
              "      <td>-4.25</td>\n",
              "      <td>2</td>\n",
              "      <td>39.741788</td>\n",
              "      <td>28.585041</td>\n",
              "      <td>3.383162</td>\n",
              "      <td>2.060</td>\n",
              "      <td>1.0</td>\n",
              "      <td>2.0</td>\n",
              "      <td>0.0</td>\n",
              "      <td>3.044522</td>\n",
              "      <td>1</td>\n",
              "    </tr>\n",
              "    <tr>\n",
              "      <th>2</th>\n",
              "      <td>0.5112</td>\n",
              "      <td>2834.386834</td>\n",
              "      <td>42.637339</td>\n",
              "      <td>168.834145</td>\n",
              "      <td>7.509380</td>\n",
              "      <td>140.140072</td>\n",
              "      <td>148.667669</td>\n",
              "      <td>3.262452</td>\n",
              "      <td>3.059524</td>\n",
              "      <td>3.482759</td>\n",
              "      <td>15.993973</td>\n",
              "      <td>5.492679</td>\n",
              "      <td>-8.180366</td>\n",
              "      <td>-15.128616</td>\n",
              "      <td>52.604904</td>\n",
              "      <td>1</td>\n",
              "      <td>3.54059</td>\n",
              "      <td>5.969862</td>\n",
              "      <td>0.000000</td>\n",
              "      <td>11.018156</td>\n",
              "      <td>9.057510</td>\n",
              "      <td>0.000000</td>\n",
              "      <td>2.439388</td>\n",
              "      <td>4.018156</td>\n",
              "      <td>3.00</td>\n",
              "      <td>1</td>\n",
              "      <td>32.621372</td>\n",
              "      <td>22.616729</td>\n",
              "      <td>8.250206</td>\n",
              "      <td>1.857</td>\n",
              "      <td>2.0</td>\n",
              "      <td>0.0</td>\n",
              "      <td>0.0</td>\n",
              "      <td>2.397895</td>\n",
              "      <td>0</td>\n",
              "    </tr>\n",
              "    <tr>\n",
              "      <th>3</th>\n",
              "      <td>-1.4450</td>\n",
              "      <td>5379.145233</td>\n",
              "      <td>39.184295</td>\n",
              "      <td>172.733317</td>\n",
              "      <td>7.712846</td>\n",
              "      <td>150.265098</td>\n",
              "      <td>164.092245</td>\n",
              "      <td>2.858286</td>\n",
              "      <td>2.398794</td>\n",
              "      <td>2.870885</td>\n",
              "      <td>138.131207</td>\n",
              "      <td>-39.512712</td>\n",
              "      <td>41.307650</td>\n",
              "      <td>21.492683</td>\n",
              "      <td>48.901921</td>\n",
              "      <td>4</td>\n",
              "      <td>4.99658</td>\n",
              "      <td>5.265771</td>\n",
              "      <td>3.283074</td>\n",
              "      <td>11.959264</td>\n",
              "      <td>1.716423</td>\n",
              "      <td>4.694590</td>\n",
              "      <td>2.280014</td>\n",
              "      <td>4.959264</td>\n",
              "      <td>-3.75</td>\n",
              "      <td>2</td>\n",
              "      <td>37.626171</td>\n",
              "      <td>29.787688</td>\n",
              "      <td>6.467895</td>\n",
              "      <td>3.576</td>\n",
              "      <td>3.0</td>\n",
              "      <td>3.0</td>\n",
              "      <td>2.0</td>\n",
              "      <td>2.397895</td>\n",
              "      <td>1</td>\n",
              "    </tr>\n",
              "    <tr>\n",
              "      <th>4</th>\n",
              "      <td>-2.5272</td>\n",
              "      <td>4699.962622</td>\n",
              "      <td>65.748944</td>\n",
              "      <td>205.559532</td>\n",
              "      <td>7.809137</td>\n",
              "      <td>151.119831</td>\n",
              "      <td>157.628443</td>\n",
              "      <td>4.743490</td>\n",
              "      <td>3.223584</td>\n",
              "      <td>3.759916</td>\n",
              "      <td>355.631532</td>\n",
              "      <td>14.764704</td>\n",
              "      <td>-16.529422</td>\n",
              "      <td>8.420096</td>\n",
              "      <td>48.287508</td>\n",
              "      <td>1</td>\n",
              "      <td>2.73038</td>\n",
              "      <td>4.061453</td>\n",
              "      <td>3.122178</td>\n",
              "      <td>22.734161</td>\n",
              "      <td>2.886149</td>\n",
              "      <td>4.232194</td>\n",
              "      <td>5.516957</td>\n",
              "      <td>4.367080</td>\n",
              "      <td>6.00</td>\n",
              "      <td>4</td>\n",
              "      <td>39.955030</td>\n",
              "      <td>30.249632</td>\n",
              "      <td>3.706843</td>\n",
              "      <td>3.322</td>\n",
              "      <td>2.0</td>\n",
              "      <td>1.0</td>\n",
              "      <td>0.0</td>\n",
              "      <td>2.397895</td>\n",
              "      <td>1</td>\n",
              "    </tr>\n",
              "  </tbody>\n",
              "</table>\n",
              "</div>"
            ],
            "text/plain": [
              "    ALogP        ATS0m     AATS6m  ...  n6HeteroRing      SRW5  Label\n",
              "0 -0.9195  2588.934432  48.158117  ...           1.0  0.000000      0\n",
              "1  0.4614  5634.103006  94.201531  ...           0.0  3.044522      1\n",
              "2  0.5112  2834.386834  42.637339  ...           0.0  2.397895      0\n",
              "3 -1.4450  5379.145233  39.184295  ...           2.0  2.397895      1\n",
              "4 -2.5272  4699.962622  65.748944  ...           0.0  2.397895      1\n",
              "\n",
              "[5 rows x 35 columns]"
            ]
          },
          "metadata": {
            "tags": []
          },
          "execution_count": 42
        }
      ]
    },
    {
      "cell_type": "markdown",
      "metadata": {
        "id": "TFFuuEBcHr0W",
        "colab_type": "text"
      },
      "source": [
        "### Data train"
      ]
    },
    {
      "cell_type": "code",
      "metadata": {
        "id": "iqv5jv5Y1f8V",
        "colab_type": "code",
        "outputId": "89c1ba4a-96fb-4d4f-c780-dd82e152e8c1",
        "colab": {
          "base_uri": "https://localhost:8080/",
          "height": 217
        }
      },
      "source": [
        "import pandas as pd\n",
        "\n",
        "link =\"https://raw.githubusercontent.com/relfarizi/Tubes_Chemo_Informatics/master/Data/\"\n",
        "#link = \"Data/\"\n",
        "data_test = pd.read_csv(link+\"test.csv\")\n",
        "data_test_fitur = data_test.iloc[:,:34]\n",
        "data_test_label = data_test.iloc[:,34]\n",
        "data_test.head(5)"
      ],
      "execution_count": 43,
      "outputs": [
        {
          "output_type": "execute_result",
          "data": {
            "text/html": [
              "<div>\n",
              "<style scoped>\n",
              "    .dataframe tbody tr th:only-of-type {\n",
              "        vertical-align: middle;\n",
              "    }\n",
              "\n",
              "    .dataframe tbody tr th {\n",
              "        vertical-align: top;\n",
              "    }\n",
              "\n",
              "    .dataframe thead th {\n",
              "        text-align: right;\n",
              "    }\n",
              "</style>\n",
              "<table border=\"1\" class=\"dataframe\">\n",
              "  <thead>\n",
              "    <tr style=\"text-align: right;\">\n",
              "      <th></th>\n",
              "      <th>ALogP</th>\n",
              "      <th>ATS0m</th>\n",
              "      <th>AATS6m</th>\n",
              "      <th>AATS8v</th>\n",
              "      <th>AATS8e</th>\n",
              "      <th>AATS1i</th>\n",
              "      <th>AATS3i</th>\n",
              "      <th>AATS2s</th>\n",
              "      <th>AATS7s</th>\n",
              "      <th>AATS8s</th>\n",
              "      <th>ATSC1m</th>\n",
              "      <th>ATSC1i</th>\n",
              "      <th>ATSC3i</th>\n",
              "      <th>ATSC8i</th>\n",
              "      <th>AATSC0v</th>\n",
              "      <th>C1SP2</th>\n",
              "      <th>CrippenLogP</th>\n",
              "      <th>SaasC</th>\n",
              "      <th>SssNH</th>\n",
              "      <th>SdO</th>\n",
              "      <th>minHBa</th>\n",
              "      <th>maxaaN</th>\n",
              "      <th>MAXDN</th>\n",
              "      <th>MAXDP</th>\n",
              "      <th>ETA_dBeta</th>\n",
              "      <th>nHBDon</th>\n",
              "      <th>MIC2</th>\n",
              "      <th>ZMIC5</th>\n",
              "      <th>MDEC-33</th>\n",
              "      <th>MLFER_E</th>\n",
              "      <th>n6Ring</th>\n",
              "      <th>nHeteroRing</th>\n",
              "      <th>n6HeteroRing</th>\n",
              "      <th>SRW5</th>\n",
              "      <th>Label</th>\n",
              "    </tr>\n",
              "  </thead>\n",
              "  <tbody>\n",
              "    <tr>\n",
              "      <th>0</th>\n",
              "      <td>0.6629</td>\n",
              "      <td>3600.454537</td>\n",
              "      <td>44.378864</td>\n",
              "      <td>90.232187</td>\n",
              "      <td>7.056266</td>\n",
              "      <td>143.816368</td>\n",
              "      <td>149.961105</td>\n",
              "      <td>2.213838</td>\n",
              "      <td>1.583039</td>\n",
              "      <td>1.456019</td>\n",
              "      <td>163.331784</td>\n",
              "      <td>-2.977714</td>\n",
              "      <td>-10.493268</td>\n",
              "      <td>-26.538061</td>\n",
              "      <td>55.411281</td>\n",
              "      <td>1</td>\n",
              "      <td>2.98231</td>\n",
              "      <td>4.589495</td>\n",
              "      <td>0.000000</td>\n",
              "      <td>0.000000</td>\n",
              "      <td>-0.817910</td>\n",
              "      <td>0.00000</td>\n",
              "      <td>1.466058</td>\n",
              "      <td>1.156626</td>\n",
              "      <td>0.25</td>\n",
              "      <td>1</td>\n",
              "      <td>37.802054</td>\n",
              "      <td>21.851175</td>\n",
              "      <td>10.879323</td>\n",
              "      <td>2.290</td>\n",
              "      <td>2.0</td>\n",
              "      <td>3.0</td>\n",
              "      <td>1.0</td>\n",
              "      <td>3.044522</td>\n",
              "      <td>0</td>\n",
              "    </tr>\n",
              "    <tr>\n",
              "      <th>1</th>\n",
              "      <td>-0.7616</td>\n",
              "      <td>3060.383420</td>\n",
              "      <td>34.874461</td>\n",
              "      <td>115.931991</td>\n",
              "      <td>7.295112</td>\n",
              "      <td>145.030976</td>\n",
              "      <td>154.041649</td>\n",
              "      <td>2.221871</td>\n",
              "      <td>2.351732</td>\n",
              "      <td>2.798780</td>\n",
              "      <td>100.945224</td>\n",
              "      <td>-4.755817</td>\n",
              "      <td>-15.515577</td>\n",
              "      <td>-3.993285</td>\n",
              "      <td>52.405008</td>\n",
              "      <td>1</td>\n",
              "      <td>3.03108</td>\n",
              "      <td>2.950855</td>\n",
              "      <td>0.000000</td>\n",
              "      <td>0.000000</td>\n",
              "      <td>2.477130</td>\n",
              "      <td>0.00000</td>\n",
              "      <td>0.817594</td>\n",
              "      <td>3.004613</td>\n",
              "      <td>-1.00</td>\n",
              "      <td>1</td>\n",
              "      <td>35.482547</td>\n",
              "      <td>20.365592</td>\n",
              "      <td>9.646462</td>\n",
              "      <td>1.873</td>\n",
              "      <td>3.0</td>\n",
              "      <td>2.0</td>\n",
              "      <td>1.0</td>\n",
              "      <td>2.397895</td>\n",
              "      <td>0</td>\n",
              "    </tr>\n",
              "    <tr>\n",
              "      <th>2</th>\n",
              "      <td>0.5121</td>\n",
              "      <td>7331.436096</td>\n",
              "      <td>85.318863</td>\n",
              "      <td>213.989917</td>\n",
              "      <td>7.858608</td>\n",
              "      <td>149.499565</td>\n",
              "      <td>156.948782</td>\n",
              "      <td>2.744017</td>\n",
              "      <td>2.548596</td>\n",
              "      <td>2.556183</td>\n",
              "      <td>21.310284</td>\n",
              "      <td>18.241775</td>\n",
              "      <td>-8.374438</td>\n",
              "      <td>3.163052</td>\n",
              "      <td>50.509062</td>\n",
              "      <td>2</td>\n",
              "      <td>4.74698</td>\n",
              "      <td>7.882546</td>\n",
              "      <td>3.472342</td>\n",
              "      <td>0.000000</td>\n",
              "      <td>-1.431286</td>\n",
              "      <td>4.44074</td>\n",
              "      <td>2.079434</td>\n",
              "      <td>2.373667</td>\n",
              "      <td>4.25</td>\n",
              "      <td>3</td>\n",
              "      <td>50.066343</td>\n",
              "      <td>28.691766</td>\n",
              "      <td>7.450309</td>\n",
              "      <td>3.679</td>\n",
              "      <td>2.0</td>\n",
              "      <td>2.0</td>\n",
              "      <td>0.0</td>\n",
              "      <td>3.044522</td>\n",
              "      <td>1</td>\n",
              "    </tr>\n",
              "    <tr>\n",
              "      <th>3</th>\n",
              "      <td>0.2529</td>\n",
              "      <td>4204.710985</td>\n",
              "      <td>82.695080</td>\n",
              "      <td>203.246422</td>\n",
              "      <td>7.869357</td>\n",
              "      <td>152.792389</td>\n",
              "      <td>160.368528</td>\n",
              "      <td>4.551913</td>\n",
              "      <td>3.432323</td>\n",
              "      <td>4.172222</td>\n",
              "      <td>79.589743</td>\n",
              "      <td>2.599222</td>\n",
              "      <td>-29.585872</td>\n",
              "      <td>-10.960972</td>\n",
              "      <td>40.961630</td>\n",
              "      <td>3</td>\n",
              "      <td>4.31267</td>\n",
              "      <td>2.599638</td>\n",
              "      <td>3.032796</td>\n",
              "      <td>10.701149</td>\n",
              "      <td>3.032796</td>\n",
              "      <td>4.48096</td>\n",
              "      <td>2.444328</td>\n",
              "      <td>3.701149</td>\n",
              "      <td>7.50</td>\n",
              "      <td>1</td>\n",
              "      <td>41.726760</td>\n",
              "      <td>30.059483</td>\n",
              "      <td>4.433632</td>\n",
              "      <td>3.659</td>\n",
              "      <td>3.0</td>\n",
              "      <td>3.0</td>\n",
              "      <td>2.0</td>\n",
              "      <td>2.397895</td>\n",
              "      <td>1</td>\n",
              "    </tr>\n",
              "    <tr>\n",
              "      <th>4</th>\n",
              "      <td>-0.2762</td>\n",
              "      <td>5244.652878</td>\n",
              "      <td>82.312760</td>\n",
              "      <td>136.455622</td>\n",
              "      <td>7.899088</td>\n",
              "      <td>146.426895</td>\n",
              "      <td>159.287076</td>\n",
              "      <td>3.833240</td>\n",
              "      <td>4.070850</td>\n",
              "      <td>3.122699</td>\n",
              "      <td>-32.144412</td>\n",
              "      <td>-5.645679</td>\n",
              "      <td>11.847075</td>\n",
              "      <td>-2.098686</td>\n",
              "      <td>47.547545</td>\n",
              "      <td>1</td>\n",
              "      <td>2.73478</td>\n",
              "      <td>1.917956</td>\n",
              "      <td>0.000000</td>\n",
              "      <td>12.418902</td>\n",
              "      <td>0.577550</td>\n",
              "      <td>0.00000</td>\n",
              "      <td>2.973811</td>\n",
              "      <td>6.280024</td>\n",
              "      <td>0.50</td>\n",
              "      <td>2</td>\n",
              "      <td>45.255873</td>\n",
              "      <td>26.226152</td>\n",
              "      <td>11.051717</td>\n",
              "      <td>2.533</td>\n",
              "      <td>2.0</td>\n",
              "      <td>1.0</td>\n",
              "      <td>0.0</td>\n",
              "      <td>0.000000</td>\n",
              "      <td>0</td>\n",
              "    </tr>\n",
              "  </tbody>\n",
              "</table>\n",
              "</div>"
            ],
            "text/plain": [
              "    ALogP        ATS0m     AATS6m  ...  n6HeteroRing      SRW5  Label\n",
              "0  0.6629  3600.454537  44.378864  ...           1.0  3.044522      0\n",
              "1 -0.7616  3060.383420  34.874461  ...           1.0  2.397895      0\n",
              "2  0.5121  7331.436096  85.318863  ...           0.0  3.044522      1\n",
              "3  0.2529  4204.710985  82.695080  ...           2.0  2.397895      1\n",
              "4 -0.2762  5244.652878  82.312760  ...           0.0  0.000000      0\n",
              "\n",
              "[5 rows x 35 columns]"
            ]
          },
          "metadata": {
            "tags": []
          },
          "execution_count": 43
        }
      ]
    },
    {
      "cell_type": "code",
      "metadata": {
        "id": "1OcHMVl_1f91",
        "colab_type": "code",
        "colab": {}
      },
      "source": [
        "\n",
        "from sklearn.feature_selection import SelectFromModel\n",
        "from sklearn.model_selection import train_test_split\n",
        "\n",
        "X_train = data_train_fitur\n",
        "y_train = data_train_label\n",
        "X_test = data_test_fitur\n",
        "y_test = data_test_label"
      ],
      "execution_count": 0,
      "outputs": []
    },
    {
      "cell_type": "markdown",
      "metadata": {
        "id": "PHMvYrg_HGl1",
        "colab_type": "text"
      },
      "source": [
        "## Feature Selection"
      ]
    },
    {
      "cell_type": "markdown",
      "metadata": {
        "id": "t3qf0UdUH3AP",
        "colab_type": "text"
      },
      "source": [
        "### Random Forest Classifier"
      ]
    },
    {
      "cell_type": "code",
      "metadata": {
        "id": "lGuE4k_91f-R",
        "colab_type": "code",
        "outputId": "607c9137-4e35-48af-b405-30602a7288ca",
        "colab": {
          "base_uri": "https://localhost:8080/",
          "height": 198
        }
      },
      "source": [
        "from sklearn.ensemble import RandomForestClassifier\n",
        "\n",
        "clf =(RandomForestClassifier(n_estimators = 100, verbose = 1))\n",
        "clf.fit(X_train, y_train)"
      ],
      "execution_count": 45,
      "outputs": [
        {
          "output_type": "stream",
          "text": [
            "[Parallel(n_jobs=1)]: Using backend SequentialBackend with 1 concurrent workers.\n",
            "[Parallel(n_jobs=1)]: Done 100 out of 100 | elapsed:    0.4s finished\n"
          ],
          "name": "stderr"
        },
        {
          "output_type": "execute_result",
          "data": {
            "text/plain": [
              "RandomForestClassifier(bootstrap=True, ccp_alpha=0.0, class_weight=None,\n",
              "                       criterion='gini', max_depth=None, max_features='auto',\n",
              "                       max_leaf_nodes=None, max_samples=None,\n",
              "                       min_impurity_decrease=0.0, min_impurity_split=None,\n",
              "                       min_samples_leaf=1, min_samples_split=2,\n",
              "                       min_weight_fraction_leaf=0.0, n_estimators=100,\n",
              "                       n_jobs=None, oob_score=False, random_state=None,\n",
              "                       verbose=1, warm_start=False)"
            ]
          },
          "metadata": {
            "tags": []
          },
          "execution_count": 45
        }
      ]
    },
    {
      "cell_type": "markdown",
      "metadata": {
        "id": "PZZE7akkIBx-",
        "colab_type": "text"
      },
      "source": [
        "#### Feature Importance"
      ]
    },
    {
      "cell_type": "code",
      "metadata": {
        "id": "ttO28B-9HGl4",
        "colab_type": "code",
        "colab": {
          "base_uri": "https://localhost:8080/",
          "height": 1000
        },
        "outputId": "52353dd4-e5ad-4797-a496-754dd3297cd2"
      },
      "source": [
        "df_feature = pd.DataFrame( {\"feature\":feature, \"feature_importance\" :clf.feature_importances_})\n",
        "df_feature"
      ],
      "execution_count": 46,
      "outputs": [
        {
          "output_type": "execute_result",
          "data": {
            "text/html": [
              "<div>\n",
              "<style scoped>\n",
              "    .dataframe tbody tr th:only-of-type {\n",
              "        vertical-align: middle;\n",
              "    }\n",
              "\n",
              "    .dataframe tbody tr th {\n",
              "        vertical-align: top;\n",
              "    }\n",
              "\n",
              "    .dataframe thead th {\n",
              "        text-align: right;\n",
              "    }\n",
              "</style>\n",
              "<table border=\"1\" class=\"dataframe\">\n",
              "  <thead>\n",
              "    <tr style=\"text-align: right;\">\n",
              "      <th></th>\n",
              "      <th>feature</th>\n",
              "      <th>feature_importance</th>\n",
              "    </tr>\n",
              "  </thead>\n",
              "  <tbody>\n",
              "    <tr>\n",
              "      <th>0</th>\n",
              "      <td>ALogP</td>\n",
              "      <td>0.004707</td>\n",
              "    </tr>\n",
              "    <tr>\n",
              "      <th>1</th>\n",
              "      <td>ATS0m</td>\n",
              "      <td>0.061857</td>\n",
              "    </tr>\n",
              "    <tr>\n",
              "      <th>2</th>\n",
              "      <td>AATS6m</td>\n",
              "      <td>0.022481</td>\n",
              "    </tr>\n",
              "    <tr>\n",
              "      <th>3</th>\n",
              "      <td>AATS8v</td>\n",
              "      <td>0.060334</td>\n",
              "    </tr>\n",
              "    <tr>\n",
              "      <th>4</th>\n",
              "      <td>AATS8e</td>\n",
              "      <td>0.028656</td>\n",
              "    </tr>\n",
              "    <tr>\n",
              "      <th>5</th>\n",
              "      <td>AATS1i</td>\n",
              "      <td>0.025840</td>\n",
              "    </tr>\n",
              "    <tr>\n",
              "      <th>6</th>\n",
              "      <td>AATS3i</td>\n",
              "      <td>0.008549</td>\n",
              "    </tr>\n",
              "    <tr>\n",
              "      <th>7</th>\n",
              "      <td>AATS2s</td>\n",
              "      <td>0.004500</td>\n",
              "    </tr>\n",
              "    <tr>\n",
              "      <th>8</th>\n",
              "      <td>AATS7s</td>\n",
              "      <td>0.006091</td>\n",
              "    </tr>\n",
              "    <tr>\n",
              "      <th>9</th>\n",
              "      <td>AATS8s</td>\n",
              "      <td>0.013868</td>\n",
              "    </tr>\n",
              "    <tr>\n",
              "      <th>10</th>\n",
              "      <td>ATSC1m</td>\n",
              "      <td>0.008923</td>\n",
              "    </tr>\n",
              "    <tr>\n",
              "      <th>11</th>\n",
              "      <td>ATSC1i</td>\n",
              "      <td>0.007713</td>\n",
              "    </tr>\n",
              "    <tr>\n",
              "      <th>12</th>\n",
              "      <td>ATSC3i</td>\n",
              "      <td>0.005882</td>\n",
              "    </tr>\n",
              "    <tr>\n",
              "      <th>13</th>\n",
              "      <td>ATSC8i</td>\n",
              "      <td>0.005840</td>\n",
              "    </tr>\n",
              "    <tr>\n",
              "      <th>14</th>\n",
              "      <td>AATSC0v</td>\n",
              "      <td>0.009032</td>\n",
              "    </tr>\n",
              "    <tr>\n",
              "      <th>15</th>\n",
              "      <td>C1SP2</td>\n",
              "      <td>0.046907</td>\n",
              "    </tr>\n",
              "    <tr>\n",
              "      <th>16</th>\n",
              "      <td>CrippenLogP</td>\n",
              "      <td>0.009498</td>\n",
              "    </tr>\n",
              "    <tr>\n",
              "      <th>17</th>\n",
              "      <td>SaasC</td>\n",
              "      <td>0.007089</td>\n",
              "    </tr>\n",
              "    <tr>\n",
              "      <th>18</th>\n",
              "      <td>SssNH</td>\n",
              "      <td>0.063635</td>\n",
              "    </tr>\n",
              "    <tr>\n",
              "      <th>19</th>\n",
              "      <td>SdO</td>\n",
              "      <td>0.008630</td>\n",
              "    </tr>\n",
              "    <tr>\n",
              "      <th>20</th>\n",
              "      <td>minHBa</td>\n",
              "      <td>0.010822</td>\n",
              "    </tr>\n",
              "    <tr>\n",
              "      <th>21</th>\n",
              "      <td>maxaaN</td>\n",
              "      <td>0.082093</td>\n",
              "    </tr>\n",
              "    <tr>\n",
              "      <th>22</th>\n",
              "      <td>MAXDN</td>\n",
              "      <td>0.008165</td>\n",
              "    </tr>\n",
              "    <tr>\n",
              "      <th>23</th>\n",
              "      <td>MAXDP</td>\n",
              "      <td>0.008263</td>\n",
              "    </tr>\n",
              "    <tr>\n",
              "      <th>24</th>\n",
              "      <td>ETA_dBeta</td>\n",
              "      <td>0.006097</td>\n",
              "    </tr>\n",
              "    <tr>\n",
              "      <th>25</th>\n",
              "      <td>nHBDon</td>\n",
              "      <td>0.037944</td>\n",
              "    </tr>\n",
              "    <tr>\n",
              "      <th>26</th>\n",
              "      <td>MIC2</td>\n",
              "      <td>0.124714</td>\n",
              "    </tr>\n",
              "    <tr>\n",
              "      <th>27</th>\n",
              "      <td>ZMIC5</td>\n",
              "      <td>0.023345</td>\n",
              "    </tr>\n",
              "    <tr>\n",
              "      <th>28</th>\n",
              "      <td>MDEC-33</td>\n",
              "      <td>0.040792</td>\n",
              "    </tr>\n",
              "    <tr>\n",
              "      <th>29</th>\n",
              "      <td>MLFER_E</td>\n",
              "      <td>0.175029</td>\n",
              "    </tr>\n",
              "    <tr>\n",
              "      <th>30</th>\n",
              "      <td>n6Ring</td>\n",
              "      <td>0.006818</td>\n",
              "    </tr>\n",
              "    <tr>\n",
              "      <th>31</th>\n",
              "      <td>nHeteroRing</td>\n",
              "      <td>0.042173</td>\n",
              "    </tr>\n",
              "    <tr>\n",
              "      <th>32</th>\n",
              "      <td>n6HeteroRing</td>\n",
              "      <td>0.004214</td>\n",
              "    </tr>\n",
              "    <tr>\n",
              "      <th>33</th>\n",
              "      <td>SRW5</td>\n",
              "      <td>0.019501</td>\n",
              "    </tr>\n",
              "  </tbody>\n",
              "</table>\n",
              "</div>"
            ],
            "text/plain": [
              "         feature  feature_importance\n",
              "0          ALogP            0.004707\n",
              "1          ATS0m            0.061857\n",
              "2         AATS6m            0.022481\n",
              "3         AATS8v            0.060334\n",
              "4         AATS8e            0.028656\n",
              "5         AATS1i            0.025840\n",
              "6         AATS3i            0.008549\n",
              "7         AATS2s            0.004500\n",
              "8         AATS7s            0.006091\n",
              "9         AATS8s            0.013868\n",
              "10        ATSC1m            0.008923\n",
              "11        ATSC1i            0.007713\n",
              "12        ATSC3i            0.005882\n",
              "13        ATSC8i            0.005840\n",
              "14       AATSC0v            0.009032\n",
              "15         C1SP2            0.046907\n",
              "16   CrippenLogP            0.009498\n",
              "17         SaasC            0.007089\n",
              "18         SssNH            0.063635\n",
              "19           SdO            0.008630\n",
              "20        minHBa            0.010822\n",
              "21        maxaaN            0.082093\n",
              "22         MAXDN            0.008165\n",
              "23         MAXDP            0.008263\n",
              "24     ETA_dBeta            0.006097\n",
              "25        nHBDon            0.037944\n",
              "26          MIC2            0.124714\n",
              "27         ZMIC5            0.023345\n",
              "28       MDEC-33            0.040792\n",
              "29       MLFER_E            0.175029\n",
              "30        n6Ring            0.006818\n",
              "31   nHeteroRing            0.042173\n",
              "32  n6HeteroRing            0.004214\n",
              "33          SRW5            0.019501"
            ]
          },
          "metadata": {
            "tags": []
          },
          "execution_count": 46
        }
      ]
    },
    {
      "cell_type": "code",
      "metadata": {
        "id": "Elg-IUMFHGl9",
        "colab_type": "code",
        "colab": {
          "base_uri": "https://localhost:8080/",
          "height": 486
        },
        "outputId": "31939b19-029d-4e09-ccbf-c202f98bf1af"
      },
      "source": [
        "import matplotlib.pyplot as plt\n",
        "\n",
        "data_ = pd.Series(clf.feature_importances_, index=feature).sort_values(ascending=False)\n",
        "data_[:].plot(kind='bar', title='Feature Importance by Random Forest', figsize=(15,8))\n",
        "plt.ylabel('Feature Importance values')\n",
        "plt.subplots_adjust(bottom=0.25)\n",
        "plt.show()"
      ],
      "execution_count": 47,
      "outputs": [
        {
          "output_type": "display_data",
          "data": {
            "image/png": "[encoded data removed]",
            "text/plain": [
              "<Figure size 1080x576 with 1 Axes>"
            ]
          },
          "metadata": {
            "tags": [],
            "needs_background": "light"
          }
        }
      ]
    },
    {
      "cell_type": "markdown",
      "metadata": {
        "id": "q-CPeghzINrb",
        "colab_type": "text"
      },
      "source": [
        "#### Feature Selected"
      ]
    },
    {
      "cell_type": "code",
      "metadata": {
        "id": "Jm60_vUT1f-k",
        "colab_type": "code",
        "outputId": "616df5bc-b352-425b-e9bf-41e0601524ff",
        "colab": {
          "base_uri": "https://localhost:8080/",
          "height": 108
        }
      },
      "source": [
        "feature_idx = sorted(range(len(clf.feature_importances_)), key=lambda k: clf.feature_importances_[k],reverse=True)\n",
        "n_feature = 5\n",
        "feature_selected = []\n",
        "for i in (feature_idx[:n_feature]) :\n",
        "    feature_selected.append(feature[i])\n",
        "\n",
        "feature_importance = []\n",
        "\n",
        "for x in zip(feature, clf.feature_importances_):\n",
        "    if x[0] in feature_selected :\n",
        "        feature_importance.append([x[0],x[1]])\n",
        "feature_importance"
      ],
      "execution_count": 48,
      "outputs": [
        {
          "output_type": "execute_result",
          "data": {
            "text/plain": [
              "[['ATS0m', 0.06185715129825578],\n",
              " ['SssNH', 0.06363457846894423],\n",
              " ['maxaaN', 0.0820929763028949],\n",
              " ['MIC2', 0.12471391769869342],\n",
              " ['MLFER_E', 0.1750291604593379]]"
            ]
          },
          "metadata": {
            "tags": []
          },
          "execution_count": 48
        }
      ]
    },
    {
      "cell_type": "markdown",
      "metadata": {
        "id": "prsJMWTvIVsH",
        "colab_type": "text"
      },
      "source": [
        "### Korelasi"
      ]
    },
    {
      "cell_type": "code",
      "metadata": {
        "id": "wJzS_i5jHGmG",
        "colab_type": "code",
        "colab": {
          "base_uri": "https://localhost:8080/",
          "height": 197
        },
        "outputId": "85f159be-1df6-4603-94a2-104df979b776"
      },
      "source": [
        "data = data_train.loc[:,[x for x in feature_selected]]\n",
        "correlation = data.corr()\n",
        "correlation"
      ],
      "execution_count": 49,
      "outputs": [
        {
          "output_type": "execute_result",
          "data": {
            "text/html": [
              "<div>\n",
              "<style scoped>\n",
              "    .dataframe tbody tr th:only-of-type {\n",
              "        vertical-align: middle;\n",
              "    }\n",
              "\n",
              "    .dataframe tbody tr th {\n",
              "        vertical-align: top;\n",
              "    }\n",
              "\n",
              "    .dataframe thead th {\n",
              "        text-align: right;\n",
              "    }\n",
              "</style>\n",
              "<table border=\"1\" class=\"dataframe\">\n",
              "  <thead>\n",
              "    <tr style=\"text-align: right;\">\n",
              "      <th></th>\n",
              "      <th>MLFER_E</th>\n",
              "      <th>MIC2</th>\n",
              "      <th>maxaaN</th>\n",
              "      <th>SssNH</th>\n",
              "      <th>ATS0m</th>\n",
              "    </tr>\n",
              "  </thead>\n",
              "  <tbody>\n",
              "    <tr>\n",
              "      <th>MLFER_E</th>\n",
              "      <td>1.000000</td>\n",
              "      <td>0.638344</td>\n",
              "      <td>0.662881</td>\n",
              "      <td>0.588320</td>\n",
              "      <td>0.529192</td>\n",
              "    </tr>\n",
              "    <tr>\n",
              "      <th>MIC2</th>\n",
              "      <td>0.638344</td>\n",
              "      <td>1.000000</td>\n",
              "      <td>0.430950</td>\n",
              "      <td>0.406729</td>\n",
              "      <td>0.766824</td>\n",
              "    </tr>\n",
              "    <tr>\n",
              "      <th>maxaaN</th>\n",
              "      <td>0.662881</td>\n",
              "      <td>0.430950</td>\n",
              "      <td>1.000000</td>\n",
              "      <td>0.466506</td>\n",
              "      <td>0.332049</td>\n",
              "    </tr>\n",
              "    <tr>\n",
              "      <th>SssNH</th>\n",
              "      <td>0.588320</td>\n",
              "      <td>0.406729</td>\n",
              "      <td>0.466506</td>\n",
              "      <td>1.000000</td>\n",
              "      <td>0.399633</td>\n",
              "    </tr>\n",
              "    <tr>\n",
              "      <th>ATS0m</th>\n",
              "      <td>0.529192</td>\n",
              "      <td>0.766824</td>\n",
              "      <td>0.332049</td>\n",
              "      <td>0.399633</td>\n",
              "      <td>1.000000</td>\n",
              "    </tr>\n",
              "  </tbody>\n",
              "</table>\n",
              "</div>"
            ],
            "text/plain": [
              "          MLFER_E      MIC2    maxaaN     SssNH     ATS0m\n",
              "MLFER_E  1.000000  0.638344  0.662881  0.588320  0.529192\n",
              "MIC2     0.638344  1.000000  0.430950  0.406729  0.766824\n",
              "maxaaN   0.662881  0.430950  1.000000  0.466506  0.332049\n",
              "SssNH    0.588320  0.406729  0.466506  1.000000  0.399633\n",
              "ATS0m    0.529192  0.766824  0.332049  0.399633  1.000000"
            ]
          },
          "metadata": {
            "tags": []
          },
          "execution_count": 49
        }
      ]
    },
    {
      "cell_type": "code",
      "metadata": {
        "id": "PyPMDOaM7Y-f",
        "colab_type": "code",
        "outputId": "c05bd3ad-a1af-48d6-d127-2ab1507becaa",
        "colab": {
          "base_uri": "https://localhost:8080/",
          "height": 580
        }
      },
      "source": [
        "import seaborn as sns\n",
        "\n",
        "f,ax = plt.subplots(figsize=(15,10))\n",
        "sns.heatmap(correlation, annot=True, linewidths=.5, fmt='.2f', ax=ax)\n",
        "plt.show"
      ],
      "execution_count": 50,
      "outputs": [
        {
          "output_type": "execute_result",
          "data": {
            "text/plain": [
              "<function matplotlib.pyplot.show>"
            ]
          },
          "metadata": {
            "tags": []
          },
          "execution_count": 50
        },
        {
          "output_type": "display_data",
          "data": {
            "image/png": "[encoded data removed]",
            "text/plain": [
              "<Figure size 1080x720 with 2 Axes>"
            ]
          },
          "metadata": {
            "tags": [],
            "needs_background": "light"
          }
        }
      ]
    },
    {
      "cell_type": "markdown",
      "metadata": {
        "id": "fM_DvciQIbWE",
        "colab_type": "text"
      },
      "source": [
        "### Data by Feature Selected"
      ]
    },
    {
      "cell_type": "code",
      "metadata": {
        "id": "27nkbjEn1f_o",
        "colab_type": "code",
        "colab": {}
      },
      "source": [
        "X_important_train = data_train_fitur.loc[:,feature_selected]\n",
        "y_train = data_train_label\n",
        "X_important_test = data_test_fitur.loc[:,feature_selected]\n",
        "y_test = data_test_label\n",
        "\n",
        "\n"
      ],
      "execution_count": 0,
      "outputs": []
    },
    {
      "cell_type": "markdown",
      "metadata": {
        "id": "YnsakFprHGmQ",
        "colab_type": "text"
      },
      "source": [
        "## Model Prediksi"
      ]
    },
    {
      "cell_type": "markdown",
      "metadata": {
        "id": "ZYZCJ8qvJZSm",
        "colab_type": "text"
      },
      "source": [
        "### Parameter"
      ]
    },
    {
      "cell_type": "code",
      "metadata": {
        "id": "yyi9NQk8HGmR",
        "colab_type": "code",
        "colab": {
          "base_uri": "https://localhost:8080/",
          "height": 110
        },
        "outputId": "f2c546aa-8e52-4fec-e8e7-fa23ed0886dc"
      },
      "source": [
        "from sklearn.model_selection import KFold\n",
        "\n",
        "# Parameter yang akan digunakan \n",
        "\n",
        "params = {\n",
        "          \"n_estimators\" : [2,10],\n",
        "          \"max_depth\" : [1,10],\n",
        "          \"learning_rate\" :[0.1,0.3]\n",
        "          }\n",
        "\n",
        "cv = KFold(n_splits=10, random_state=42, shuffle=False)\n",
        "acc_train = []\n",
        "acc_test = []\n",
        "\n",
        "print(params)\n",
        "print(cv)\n"
      ],
      "execution_count": 82,
      "outputs": [
        {
          "output_type": "stream",
          "text": [
            "{'n_estimators': [2, 10], 'max_depth': [1, 10], 'learning_rate': [0.01, 0.3]}\n",
            "KFold(n_splits=10, random_state=42, shuffle=False)\n"
          ],
          "name": "stdout"
        },
        {
          "output_type": "stream",
          "text": [
            "/usr/local/lib/python3.6/dist-packages/sklearn/model_selection/_split.py:296: FutureWarning: Setting a random_state has no effect since shuffle is False. This will raise an error in 0.24. You should leave random_state to its default (None), or set shuffle=True.\n",
            "  FutureWarning\n"
          ],
          "name": "stderr"
        }
      ]
    },
    {
      "cell_type": "markdown",
      "metadata": {
        "id": "aLw6I-zHIp7S",
        "colab_type": "text"
      },
      "source": [
        "### Uji Parameter"
      ]
    },
    {
      "cell_type": "code",
      "metadata": {
        "id": "FNneUrUJIqyP",
        "colab_type": "code",
        "colab": {
          "base_uri": "https://localhost:8080/",
          "height": 1000
        },
        "outputId": "9f8478f1-ef57-4711-a52d-145f07f7ca4a"
      },
      "source": [
        "from sklearn.model_selection import cross_val_score\n",
        "from sklearn.metrics import accuracy_score\n",
        "for i in range(2) :\n",
        "    model = XGBClassifier(n_estimators = params[\"n_estimators\"][i], max_depth = params[\"max_depth\"][i], learning_rate = params[\"learning_rate\"][i])\n",
        "    model.fit(X_important_train,y_train)\n",
        "    y_pred_train = model.predict(X_important_train)\n",
        "    score = cross_val_score(clf, X_important_train, y_train, cv=cv,verbose=0)\n",
        "    acc_train.append(score.mean())\n",
        "    #print(len(X_important_test))\n",
        "    y_p =model.predict(X_important_test)\n",
        "    print(len(y_test))\n",
        "    print(accuracy_score(y_p,y_test))\n",
        "    acc_test.append(accuracy_score(y_p,y_test))\n",
        "    #print(score.mean())"
      ],
      "execution_count": 83,
      "outputs": [
        {
          "output_type": "stream",
          "text": [
            "[Parallel(n_jobs=1)]: Using backend SequentialBackend with 1 concurrent workers.\n",
            "[Parallel(n_jobs=1)]: Done 100 out of 100 | elapsed:    0.2s finished\n",
            "[Parallel(n_jobs=1)]: Using backend SequentialBackend with 1 concurrent workers.\n",
            "[Parallel(n_jobs=1)]: Done 100 out of 100 | elapsed:    0.0s finished\n",
            "[Parallel(n_jobs=1)]: Using backend SequentialBackend with 1 concurrent workers.\n",
            "[Parallel(n_jobs=1)]: Done 100 out of 100 | elapsed:    0.2s finished\n",
            "[Parallel(n_jobs=1)]: Using backend SequentialBackend with 1 concurrent workers.\n",
            "[Parallel(n_jobs=1)]: Done 100 out of 100 | elapsed:    0.0s finished\n",
            "[Parallel(n_jobs=1)]: Using backend SequentialBackend with 1 concurrent workers.\n",
            "[Parallel(n_jobs=1)]: Done 100 out of 100 | elapsed:    0.2s finished\n",
            "[Parallel(n_jobs=1)]: Using backend SequentialBackend with 1 concurrent workers.\n",
            "[Parallel(n_jobs=1)]: Done 100 out of 100 | elapsed:    0.0s finished\n",
            "[Parallel(n_jobs=1)]: Using backend SequentialBackend with 1 concurrent workers.\n",
            "[Parallel(n_jobs=1)]: Done 100 out of 100 | elapsed:    0.2s finished\n",
            "[Parallel(n_jobs=1)]: Using backend SequentialBackend with 1 concurrent workers.\n",
            "[Parallel(n_jobs=1)]: Done 100 out of 100 | elapsed:    0.0s finished\n",
            "[Parallel(n_jobs=1)]: Using backend SequentialBackend with 1 concurrent workers.\n",
            "[Parallel(n_jobs=1)]: Done 100 out of 100 | elapsed:    0.2s finished\n",
            "[Parallel(n_jobs=1)]: Using backend SequentialBackend with 1 concurrent workers.\n",
            "[Parallel(n_jobs=1)]: Done 100 out of 100 | elapsed:    0.0s finished\n",
            "[Parallel(n_jobs=1)]: Using backend SequentialBackend with 1 concurrent workers.\n",
            "[Parallel(n_jobs=1)]: Done 100 out of 100 | elapsed:    0.2s finished\n",
            "[Parallel(n_jobs=1)]: Using backend SequentialBackend with 1 concurrent workers.\n",
            "[Parallel(n_jobs=1)]: Done 100 out of 100 | elapsed:    0.0s finished\n",
            "[Parallel(n_jobs=1)]: Using backend SequentialBackend with 1 concurrent workers.\n",
            "[Parallel(n_jobs=1)]: Done 100 out of 100 | elapsed:    0.2s finished\n",
            "[Parallel(n_jobs=1)]: Using backend SequentialBackend with 1 concurrent workers.\n",
            "[Parallel(n_jobs=1)]: Done 100 out of 100 | elapsed:    0.0s finished\n",
            "[Parallel(n_jobs=1)]: Using backend SequentialBackend with 1 concurrent workers.\n",
            "[Parallel(n_jobs=1)]: Done 100 out of 100 | elapsed:    0.2s finished\n",
            "[Parallel(n_jobs=1)]: Using backend SequentialBackend with 1 concurrent workers.\n",
            "[Parallel(n_jobs=1)]: Done 100 out of 100 | elapsed:    0.0s finished\n",
            "[Parallel(n_jobs=1)]: Using backend SequentialBackend with 1 concurrent workers.\n",
            "[Parallel(n_jobs=1)]: Done 100 out of 100 | elapsed:    0.2s finished\n",
            "[Parallel(n_jobs=1)]: Using backend SequentialBackend with 1 concurrent workers.\n",
            "[Parallel(n_jobs=1)]: Done 100 out of 100 | elapsed:    0.0s finished\n",
            "[Parallel(n_jobs=1)]: Using backend SequentialBackend with 1 concurrent workers.\n",
            "[Parallel(n_jobs=1)]: Done 100 out of 100 | elapsed:    0.2s finished\n",
            "[Parallel(n_jobs=1)]: Using backend SequentialBackend with 1 concurrent workers.\n",
            "[Parallel(n_jobs=1)]: Done 100 out of 100 | elapsed:    0.0s finished\n",
            "[Parallel(n_jobs=1)]: Using backend SequentialBackend with 1 concurrent workers.\n"
          ],
          "name": "stderr"
        },
        {
          "output_type": "stream",
          "text": [
            "697\n",
            "0.9053084648493543\n"
          ],
          "name": "stdout"
        },
        {
          "output_type": "stream",
          "text": [
            "[Parallel(n_jobs=1)]: Done 100 out of 100 | elapsed:    0.2s finished\n",
            "[Parallel(n_jobs=1)]: Using backend SequentialBackend with 1 concurrent workers.\n",
            "[Parallel(n_jobs=1)]: Done 100 out of 100 | elapsed:    0.0s finished\n",
            "[Parallel(n_jobs=1)]: Using backend SequentialBackend with 1 concurrent workers.\n",
            "[Parallel(n_jobs=1)]: Done 100 out of 100 | elapsed:    0.2s finished\n",
            "[Parallel(n_jobs=1)]: Using backend SequentialBackend with 1 concurrent workers.\n",
            "[Parallel(n_jobs=1)]: Done 100 out of 100 | elapsed:    0.0s finished\n",
            "[Parallel(n_jobs=1)]: Using backend SequentialBackend with 1 concurrent workers.\n",
            "[Parallel(n_jobs=1)]: Done 100 out of 100 | elapsed:    0.2s finished\n",
            "[Parallel(n_jobs=1)]: Using backend SequentialBackend with 1 concurrent workers.\n",
            "[Parallel(n_jobs=1)]: Done 100 out of 100 | elapsed:    0.0s finished\n",
            "[Parallel(n_jobs=1)]: Using backend SequentialBackend with 1 concurrent workers.\n",
            "[Parallel(n_jobs=1)]: Done 100 out of 100 | elapsed:    0.2s finished\n",
            "[Parallel(n_jobs=1)]: Using backend SequentialBackend with 1 concurrent workers.\n",
            "[Parallel(n_jobs=1)]: Done 100 out of 100 | elapsed:    0.0s finished\n",
            "[Parallel(n_jobs=1)]: Using backend SequentialBackend with 1 concurrent workers.\n",
            "[Parallel(n_jobs=1)]: Done 100 out of 100 | elapsed:    0.2s finished\n",
            "[Parallel(n_jobs=1)]: Using backend SequentialBackend with 1 concurrent workers.\n",
            "[Parallel(n_jobs=1)]: Done 100 out of 100 | elapsed:    0.0s finished\n",
            "[Parallel(n_jobs=1)]: Using backend SequentialBackend with 1 concurrent workers.\n",
            "[Parallel(n_jobs=1)]: Done 100 out of 100 | elapsed:    0.2s finished\n",
            "[Parallel(n_jobs=1)]: Using backend SequentialBackend with 1 concurrent workers.\n",
            "[Parallel(n_jobs=1)]: Done 100 out of 100 | elapsed:    0.0s finished\n",
            "[Parallel(n_jobs=1)]: Using backend SequentialBackend with 1 concurrent workers.\n",
            "[Parallel(n_jobs=1)]: Done 100 out of 100 | elapsed:    0.2s finished\n",
            "[Parallel(n_jobs=1)]: Using backend SequentialBackend with 1 concurrent workers.\n",
            "[Parallel(n_jobs=1)]: Done 100 out of 100 | elapsed:    0.0s finished\n",
            "[Parallel(n_jobs=1)]: Using backend SequentialBackend with 1 concurrent workers.\n",
            "[Parallel(n_jobs=1)]: Done 100 out of 100 | elapsed:    0.2s finished\n",
            "[Parallel(n_jobs=1)]: Using backend SequentialBackend with 1 concurrent workers.\n",
            "[Parallel(n_jobs=1)]: Done 100 out of 100 | elapsed:    0.0s finished\n",
            "[Parallel(n_jobs=1)]: Using backend SequentialBackend with 1 concurrent workers.\n",
            "[Parallel(n_jobs=1)]: Done 100 out of 100 | elapsed:    0.2s finished\n",
            "[Parallel(n_jobs=1)]: Using backend SequentialBackend with 1 concurrent workers.\n",
            "[Parallel(n_jobs=1)]: Done 100 out of 100 | elapsed:    0.0s finished\n",
            "[Parallel(n_jobs=1)]: Using backend SequentialBackend with 1 concurrent workers.\n"
          ],
          "name": "stderr"
        },
        {
          "output_type": "stream",
          "text": [
            "697\n",
            "0.9512195121951219\n"
          ],
          "name": "stdout"
        },
        {
          "output_type": "stream",
          "text": [
            "[Parallel(n_jobs=1)]: Done 100 out of 100 | elapsed:    0.2s finished\n",
            "[Parallel(n_jobs=1)]: Using backend SequentialBackend with 1 concurrent workers.\n",
            "[Parallel(n_jobs=1)]: Done 100 out of 100 | elapsed:    0.0s finished\n"
          ],
          "name": "stderr"
        }
      ]
    },
    {
      "cell_type": "markdown",
      "metadata": {
        "id": "_Watv9FhJd1W",
        "colab_type": "text"
      },
      "source": [
        "### Hasil"
      ]
    },
    {
      "cell_type": "code",
      "metadata": {
        "id": "54TXitMjHGmV",
        "colab_type": "code",
        "colab": {
          "base_uri": "https://localhost:8080/",
          "height": 325
        },
        "outputId": "f9566471-2585-4b6a-915c-4416cc34f116"
      },
      "source": [
        "print(acc_train)\n",
        "for i in range(2) :\n",
        "    print(\"Parameter\")\n",
        "    for x in params.keys():\n",
        "        print(x,\"=\",params[x][i])\n",
        "    print(\"akurasi train\",i+1,\"= \", acc_train[i])\n",
        "    print(\"akurasi test\",i+1,\"= \", acc_test[i])\n",
        "    print(\"\\n\")"
      ],
      "execution_count": 84,
      "outputs": [
        {
          "output_type": "stream",
          "text": [
            "[0.9581913201545103, 0.9588010300689238]\n",
            "Parameter\n",
            "n_estimators = 2\n",
            "max_depth = 1\n",
            "learning_rate = 0.01\n",
            "akurasi train 1 =  0.9581913201545103\n",
            "akurasi test 1 =  0.9053084648493543\n",
            "\n",
            "\n",
            "Parameter\n",
            "n_estimators = 10\n",
            "max_depth = 10\n",
            "learning_rate = 0.3\n",
            "akurasi train 2 =  0.9588010300689238\n",
            "akurasi test 2 =  0.9512195121951219\n",
            "\n",
            "\n"
          ],
          "name": "stdout"
        }
      ]
    },
    {
      "cell_type": "markdown",
      "metadata": {
        "id": "4PzyXJtfHGmZ",
        "colab_type": "text"
      },
      "source": [
        "## Extended Version"
      ]
    },
    {
      "cell_type": "markdown",
      "metadata": {
        "id": "QjJJlK-NJoPf",
        "colab_type": "text"
      },
      "source": [
        "### Hyperparameter Tuning"
      ]
    },
    {
      "cell_type": "markdown",
      "metadata": {
        "id": "kUlWZeAWJ1Wb",
        "colab_type": "text"
      },
      "source": [
        "#### Randomize"
      ]
    },
    {
      "cell_type": "code",
      "metadata": {
        "id": "n4LjX-jPHGmz",
        "colab_type": "code",
        "colab": {
          "base_uri": "https://localhost:8080/",
          "height": 92
        },
        "outputId": "9ebbf814-4892-4ed3-b546-0469c322c551"
      },
      "source": [
        "from sklearn.model_selection import RandomizedSearchCV\n",
        "from xgboost import XGBClassifier\n",
        "\n",
        "cv = KFold(n_splits=10, random_state=42, shuffle=False)\n",
        "\n",
        "parameters = {\"learning_rate\": [0.1, 0.01, 0.001, 0.2, 0.3 , 0.4 , 0.5],\n",
        "               #\"gamma\" : [0.01, 0.1, 0.3, 0.5, 1, 1.5, 2],\n",
        "               \"max_depth\": [2, 4, 7, 10, 16],\n",
        "               \"n_estimators\": [100, 250, 500, 1000]}\n",
        "\n",
        "# Create RandomizedSearchCV Object\n",
        "model = XGBClassifier()\n",
        "xgb_rscv = RandomizedSearchCV(model, param_distributions = parameters, scoring = \"accuracy\",\n",
        "                             cv = cv, verbose = 0, random_state = 40)\n",
        "\n",
        "# Fit the model\n",
        "model_xgboost = xgb_rscv.fit(X_train_k, y_train_k)\n",
        "print(model_xgboost.best_params_)"
      ],
      "execution_count": 85,
      "outputs": [
        {
          "output_type": "stream",
          "text": [
            "/usr/local/lib/python3.6/dist-packages/sklearn/model_selection/_split.py:296: FutureWarning: Setting a random_state has no effect since shuffle is False. This will raise an error in 0.24. You should leave random_state to its default (None), or set shuffle=True.\n",
            "  FutureWarning\n"
          ],
          "name": "stderr"
        },
        {
          "output_type": "stream",
          "text": [
            "{'n_estimators': 250, 'max_depth': 2, 'learning_rate': 0.2}\n"
          ],
          "name": "stdout"
        }
      ]
    },
    {
      "cell_type": "code",
      "metadata": {
        "id": "QtNzW9BuKR77",
        "colab_type": "code",
        "colab": {
          "base_uri": "https://localhost:8080/",
          "height": 408
        },
        "outputId": "4737a569-d097-4965-c87a-4c85ae42fec6"
      },
      "source": [
        "from sklearn.model_selection import KFold\n",
        "cv = KFold(n_splits=5, random_state=42, shuffle=False)\n",
        "\n",
        "X = X_important_train\n",
        "y = y_train\n",
        "print(X.shape)\n",
        "#print(y_train)\n",
        "#print(y.shape)\n",
        "sc = []\n",
        "for train_index, test_index in cv.split(X):\n",
        "    X_test_k, y_test_k = X.iloc[test_index,:] , y.iloc[test_index]\n",
        "    X_train_k, y_train_k = X.iloc[train_index,:] , y.iloc[train_index]\n",
        "    model.fit(X_train_k,y_train_k)\n",
        "    y_pred_k = model.predict(X_test_k)\n",
        "    sc.append(accuracy_score(y_pred_k,y_test_k))\n",
        "    print(\"akurasi test = \", accuracy_score(y_pred_k,y_test_k))\n",
        "print(np.mean(sc))\n",
        "scor = cross_val_score(model,X,y,cv=cv)\n",
        "print(scor.mean())"
      ],
      "execution_count": 72,
      "outputs": [
        {
          "output_type": "stream",
          "text": [
            "/usr/local/lib/python3.6/dist-packages/sklearn/model_selection/_split.py:296: FutureWarning: Setting a random_state has no effect since shuffle is False. This will raise an error in 0.24. You should leave random_state to its default (None), or set shuffle=True.\n",
            "  FutureWarning\n"
          ],
          "name": "stderr"
        },
        {
          "output_type": "stream",
          "text": [
            "(1626, 5)\n",
            "akurasi test =  0.9539877300613497\n",
            "akurasi test =  0.96\n",
            "akurasi test =  0.9507692307692308\n",
            "akurasi test =  0.9538461538461539\n",
            "akurasi test =  0.963076923076923\n"
          ],
          "name": "stdout"
        },
        {
          "output_type": "error",
          "ename": "NameError",
          "evalue": "ignored",
          "traceback": [
            "\u001b[0;31m---------------------------------------------------------------------------\u001b[0m",
            "\u001b[0;31mNameError\u001b[0m                                 Traceback (most recent call last)",
            "\u001b[0;32m<ipython-input-72-064db57f722f>\u001b[0m in \u001b[0;36m<module>\u001b[0;34m()\u001b[0m\n\u001b[1;32m     15\u001b[0m     \u001b[0msc\u001b[0m\u001b[0;34m.\u001b[0m\u001b[0mappend\u001b[0m\u001b[0;34m(\u001b[0m\u001b[0maccuracy_score\u001b[0m\u001b[0;34m(\u001b[0m\u001b[0my_pred_k\u001b[0m\u001b[0;34m,\u001b[0m\u001b[0my_test_k\u001b[0m\u001b[0;34m)\u001b[0m\u001b[0;34m)\u001b[0m\u001b[0;34m\u001b[0m\u001b[0;34m\u001b[0m\u001b[0m\n\u001b[1;32m     16\u001b[0m     \u001b[0mprint\u001b[0m\u001b[0;34m(\u001b[0m\u001b[0;34m\"akurasi test = \"\u001b[0m\u001b[0;34m,\u001b[0m \u001b[0maccuracy_score\u001b[0m\u001b[0;34m(\u001b[0m\u001b[0my_pred_k\u001b[0m\u001b[0;34m,\u001b[0m\u001b[0my_test_k\u001b[0m\u001b[0;34m)\u001b[0m\u001b[0;34m)\u001b[0m\u001b[0;34m\u001b[0m\u001b[0;34m\u001b[0m\u001b[0m\n\u001b[0;32m---> 17\u001b[0;31m \u001b[0mprint\u001b[0m\u001b[0;34m(\u001b[0m\u001b[0mnp\u001b[0m\u001b[0;34m.\u001b[0m\u001b[0mmean\u001b[0m\u001b[0;34m(\u001b[0m\u001b[0msc\u001b[0m\u001b[0;34m)\u001b[0m\u001b[0;34m)\u001b[0m\u001b[0;34m\u001b[0m\u001b[0;34m\u001b[0m\u001b[0m\n\u001b[0m\u001b[1;32m     18\u001b[0m \u001b[0mscor\u001b[0m \u001b[0;34m=\u001b[0m \u001b[0mcross_val_score\u001b[0m\u001b[0;34m(\u001b[0m\u001b[0mmodel\u001b[0m\u001b[0;34m,\u001b[0m\u001b[0mX\u001b[0m\u001b[0;34m,\u001b[0m\u001b[0my\u001b[0m\u001b[0;34m,\u001b[0m\u001b[0mcv\u001b[0m\u001b[0;34m=\u001b[0m\u001b[0mcv\u001b[0m\u001b[0;34m)\u001b[0m\u001b[0;34m\u001b[0m\u001b[0;34m\u001b[0m\u001b[0m\n\u001b[1;32m     19\u001b[0m \u001b[0mprint\u001b[0m\u001b[0;34m(\u001b[0m\u001b[0mscor\u001b[0m\u001b[0;34m.\u001b[0m\u001b[0mmean\u001b[0m\u001b[0;34m(\u001b[0m\u001b[0;34m)\u001b[0m\u001b[0;34m)\u001b[0m\u001b[0;34m\u001b[0m\u001b[0;34m\u001b[0m\u001b[0m\n",
            "\u001b[0;31mNameError\u001b[0m: name 'np' is not defined"
          ]
        }
      ]
    },
    {
      "cell_type": "code",
      "metadata": {
        "id": "TbxKf3QdHGma",
        "colab_type": "code",
        "colab": {}
      },
      "source": [
        "from xgboost import XGBClassifier\n",
        "model = XGBClassifier(n_estimators = 10)\n",
        "model.fit(X_important_train,y_train)\n"
      ],
      "execution_count": 0,
      "outputs": []
    },
    {
      "cell_type": "code",
      "metadata": {
        "id": "TJCX9P_UHGmg",
        "colab_type": "code",
        "colab": {}
      },
      "source": [
        "from sklearn.model_selection import cross_val_score\n",
        "import time\n",
        "start_time = time.time()\n",
        "\n",
        "y_pred_train = model.predict(X_important_train)\n",
        "score = cross_val_score(clf, X_important_train, y_train, cv=5)\n",
        "\n",
        "y_pred_test = model.predict(X_important_test)\n",
        "print(accuracy_score(y_pred_test,y_test))\n",
        "print(score.mean())\n",
        " \n",
        "print(\"--- %s seconds ---\" % (time.time() - start_time))"
      ],
      "execution_count": 0,
      "outputs": []
    },
    {
      "cell_type": "code",
      "metadata": {
        "id": "IG7YYdbKHGmk",
        "colab_type": "code",
        "colab": {},
        "outputId": "4bbc3e5d-a114-4ba6-b4dc-d5314e71ffc3"
      },
      "source": [
        "print(len(y_test))\n"
      ],
      "execution_count": 0,
      "outputs": [
        {
          "output_type": "stream",
          "text": [
            "697\n"
          ],
          "name": "stdout"
        }
      ]
    },
    {
      "cell_type": "code",
      "metadata": {
        "id": "EBHKK_37HGmo",
        "colab_type": "code",
        "colab": {},
        "outputId": "6434f877-60d0-4962-abff-a555ebf8e18f"
      },
      "source": [
        "from sklearn.model_selection import KFold\n",
        "cv = KFold(n_splits=5, random_state=42, shuffle=False)\n",
        "print(type(y_train))\n",
        "\n",
        "X = X_important_train\n",
        "y = y_train\n",
        "print(X.shape)\n",
        "#print(y_train)\n",
        "#print(y.shape)\n",
        "sc = []\n",
        "for train_index, test_index in cv.split(X):\n",
        "    X_test_k, y_test_k = X.iloc[test_index,:] , y.iloc[test_index]\n",
        "    X_train_k, y_train_k = X.iloc[train_index,:] , y.iloc[train_index]\n",
        "    model.fit(X_train_k,y_train_k)\n",
        "    y_pred_k = model.predict(X_test_k)\n",
        "    sc.append(accuracy_score(y_pred_k,y_test_k))\n",
        "    print(\"akurasi test = \", accuracy_score(y_pred_k,y_test_k))\n",
        "print(np.mean(sc))\n",
        "scor = cross_val_score(model,X,y,cv=cv)\n",
        "print(scor.mean())"
      ],
      "execution_count": 0,
      "outputs": [
        {
          "output_type": "stream",
          "text": [
            "<class 'pandas.core.series.Series'>\n",
            "(1626, 6)\n",
            "akurasi test =  0.8220858895705522\n",
            "akurasi test = 0.7938461538461539\n",
            "akurasi test =  0.8615384615384616\n",
            "akurasi test =  0.8307692307692308\n",
            "akurasi test =  0.8215384615384616\n",
            "0.825955639452572\n",
            "0.825955639452572\n"
          ],
          "name": "stdout"
        }
      ]
    },
    {
      "cell_type": "code",
      "metadata": {
        "id": "OnvkV0rOHGms",
        "colab_type": "code",
        "colab": {},
        "outputId": "6258cdd9-92b6-44bc-e181-3b9f9d36a6fe"
      },
      "source": [
        "print(len(y_test))"
      ],
      "execution_count": 0,
      "outputs": [
        {
          "output_type": "stream",
          "text": [
            "697\n"
          ],
          "name": "stdout"
        }
      ]
    },
    {
      "cell_type": "code",
      "metadata": {
        "id": "tqQvFsadHGmw",
        "colab_type": "code",
        "colab": {},
        "outputId": "3b4fbf27-8c0b-4995-86b0-378ed9efb392"
      },
      "source": [
        "print(model_xgboost.best_params_)"
      ],
      "execution_count": 0,
      "outputs": [
        {
          "output_type": "stream",
          "text": [
            "{'n_estimators': 1000, 'max_depth': 10, 'learning_rate': 0.4}\n"
          ],
          "name": "stdout"
        }
      ]
    },
    {
      "cell_type": "code",
      "metadata": {
        "id": "vdC-rm6QHGm2",
        "colab_type": "code",
        "colab": {},
        "outputId": "63eeba2b-3508-4bd9-a088-4feceb875cff"
      },
      "source": [
        "\"\"\"cv = KFold(n_splits=10, random_state=42, shuffle=False)\n",
        "\n",
        "params = {\"learning_rate\": [0.1, 0.2, 0.3 , 0.4 , 0.5],\n",
        "               #\"gamma\" : [0.01, 0.1, 0.3, 0.5, 1, 1.5, 2],\n",
        "               \"max_depth\": [2, 4, 7, 10, 16],\n",
        "               \"n_estimators\": [10,100, 250, 500, 1000]}\n",
        "best_params = []\n",
        "for i in range(5):\n",
        "    model = XGBClassifier(n_estimators = params[\"n_estimators\"][i], max_depth = params[\"max_depth\"][i], learning_rate = params[\"learning_rate\"][i])\n",
        "    model.fit(X_important_train,y_train)\n",
        "    score = cross_val_score(model,X_important_train,y_train,cv=cv)\n",
        "    best_params.append([])\n",
        "\"\"\""
      ],
      "execution_count": 0,
      "outputs": [
        {
          "output_type": "execute_result",
          "data": {
            "text/plain": [
              "'cv = KFold(n_splits=10, random_state=42, shuffle=False)\\n\\nparams = {\"learning_rate\": [0.1, 0.2, 0.3 , 0.4 , 0.5],\\n               #\"gamma\" : [0.01, 0.1, 0.3, 0.5, 1, 1.5, 2],\\n               \"max_depth\": [2, 4, 7, 10, 16],\\n               \"n_estimators\": [10,100, 250, 500, 1000]}\\nbest_params = []\\nfor i in range(5):\\n    model = XGBClassifier(n_estimators = params[\"n_estimators\"][i], max_depth = params[\"max_depth\"][i], learning_rate = params[\"learning_rate\"][i])\\n    model.fit(X_important_train,y_train)\\n    score = cross_val_score(model,X_important_train,y_train,cv=cv)\\n    best_params.append([])\\n'"
            ]
          },
          "metadata": {
            "tags": []
          },
          "execution_count": 169
        }
      ]
    },
    {
      "cell_type": "code",
      "metadata": {
        "id": "T4l5fFRDHGm5",
        "colab_type": "code",
        "colab": {},
        "outputId": "d5f2556e-1cc0-4e44-a7de-484edc233344"
      },
      "source": [
        "y_pred_train = clf_important.predict(X_important_train)\n",
        "accuracy_score(y_train, y_pred_train)"
      ],
      "execution_count": 0,
      "outputs": [
        {
          "output_type": "execute_result",
          "data": {
            "text/plain": [
              "1.0"
            ]
          },
          "metadata": {
            "tags": []
          },
          "execution_count": 15
        }
      ]
    },
    {
      "cell_type": "code",
      "metadata": {
        "id": "MR6uGBZa1f_q",
        "colab_type": "code",
        "outputId": "a32c90d2-dcea-457f-d4ef-f8fec9932dd8",
        "colab": {
          "base_uri": "https://localhost:8080/",
          "height": 35
        }
      },
      "source": [
        "from sklearn.metrics import accuracy_score\n",
        "\n",
        "\n",
        "clf_important = RandomForestClassifier(n_estimators=10000, random_state=0, n_jobs=-1)\n",
        "clf_important.fit(X_important_train, y_train)\n",
        "y_pred = clf_important.predict(X_important_test)\n",
        "accuracy_score(y_test, y_pred)"
      ],
      "execution_count": 0,
      "outputs": [
        {
          "output_type": "execute_result",
          "data": {
            "text/plain": [
              "0.8522238163558106"
            ]
          },
          "metadata": {
            "tags": []
          },
          "execution_count": 14
        }
      ]
    },
    {
      "cell_type": "code",
      "metadata": {
        "tags": [
          "outputPrepend",
          "outputPrepend",
          "outputPrepend"
        ],
        "id": "IM5wRbyzHGm_",
        "colab_type": "code",
        "colab": {},
        "outputId": "da694db7-cd77-4f6f-dda6-3f0636c847aa"
      },
      "source": [
        "from sklearn.preprocessing import MinMaxScaler\n",
        "import numpy as np\n",
        "cv = KFold(n_splits=10, random_state=42, shuffle=False)\n",
        "X = X_important_train.to_numpy()\n",
        "X = np.array(X)\n",
        "y = y_train\n",
        "y = np.array(y)\n",
        "print(X)\n",
        "for i_train, j_test in cv.split(X):\n",
        "    train_index = []\n",
        "    test_index = []\n",
        "\n",
        "    for i in i_train :\n",
        "        train_index.append(i)\n",
        "    for i in j_test :\n",
        "        test_index.append(i)\n",
        "        \n",
        "    print(\"Train Index: \", train_index, \"\\n\")\n",
        "    print(\"Test Index: \", test_index)\n",
        "    print(len(train_index))\n",
        "    #X_train,y_train = X[train_index],y[train_index]\n",
        "    X_Test , y_test = X[test_index],y[test_index]\n",
        "    print(X_train)\n",
        "    #model.fit(X_train, y_train)\n",
        "    #y_pred = model.predict(X_test)\n",
        "    #scores.append(accuracy_score(y_pred,y_test))\n",
        "#print(scores)"
      ],
      "execution_count": 0,
      "outputs": [
        {
          "output_type": "stream",
          "text": [
            "08, 709, 710, 711, 712, 713, 714, 715, 716, 717, 718, 719, 720, 721, 722, 723, 724, 725, 726, 727, 728, 729, 730, 731, 732, 733, 734, 735, 736, 737, 738, 739, 740, 741, 742, 743, 744, 745, 746, 747, 748, 749, 750, 751, 752, 753, 754, 755, 756, 757, 758, 759, 760, 761, 762, 763, 764, 765, 766, 767, 768, 769, 770, 771, 772, 773, 774, 775, 776, 777, 778, 779, 780, 781, 782, 783, 784, 785, 786, 787, 788, 789, 790, 791, 792, 793, 794, 795, 796, 797, 798, 799, 800, 801, 802, 803, 804, 805, 806, 807, 808, 809, 810, 811, 812, 813, 814, 815, 816, 817, 818, 819, 820, 821, 822, 823, 824, 825, 826, 827, 828, 829, 830, 831, 832, 833, 834, 835, 836, 837, 838, 839, 840, 841, 842, 843, 844, 845, 846, 847, 848, 849, 850, 851, 852, 853, 854, 855, 856, 857, 858, 859, 860, 861, 862, 863, 864, 865, 866, 867, 868, 869, 870, 871, 872, 873, 874, 875, 876, 877, 878, 879, 880, 881, 882, 883, 884, 885, 886, 887, 888, 889, 890, 891, 892, 893, 894, 895, 896, 897, 898, 899, 900, 901, 902, 903, 904, 905, 906, 907, 908, 909, 910, 911, 912, 913, 914, 915, 916, 917, 918, 919, 920, 921, 922, 923, 924, 925, 926, 927, 928, 929, 930, 931, 932, 933, 934, 935, 936, 937, 938, 939, 940, 941, 942, 943, 944, 945, 946, 947, 948, 949, 950, 951, 952, 953, 954, 955, 956, 957, 958, 959, 960, 961, 962, 963, 964, 965, 966, 967, 968, 969, 970, 971, 972, 973, 974, 975, 976, 977, 978, 979, 980, 981, 982, 983, 984, 985, 986, 987, 988, 989, 990, 991, 992, 993, 994, 995, 996, 997, 998, 999, 1000, 1001, 1002, 1003, 1004, 1005, 1006, 1007, 1008, 1009, 1010, 1011, 1012, 1013, 1014, 1015, 1016, 1017, 1018, 1019, 1020, 1021, 1022, 1023, 1024, 1025, 1026, 1027, 1028, 1029, 1030, 1031, 1032, 1033, 1034, 1035, 1036, 1037, 1038, 1039, 1040, 1041, 1042, 1043, 1044, 1045, 1046, 1047, 1048, 1049, 1050, 1051, 1052, 1053, 1054, 1055, 1056, 1057, 1058, 1059, 1060, 1061, 1062, 1063, 1064, 1065, 1066, 1067, 1068, 1069, 1070, 1071, 1072, 1073, 1074, 1075, 1076, 1077, 1078, 1079, 1080, 1081, 1082, 1083, 1084, 1085, 1086, 1087, 1088, 1089, 1090, 1091, 1092, 1093, 1094, 1095, 1096, 1097, 1098, 1099, 1100, 1101, 1102, 1103, 1104, 1105, 1106, 1107, 1108, 1109, 1110, 1111, 1112, 1113, 1114, 1115, 1116, 1117, 1118, 1119, 1120, 1121, 1122, 1123, 1124, 1125, 1126, 1127, 1128, 1129, 1130, 1131, 1132, 1133, 1134, 1135, 1136, 1137, 1138, 1139, 1140, 1141, 1142, 1143, 1144, 1145, 1146, 1147, 1148, 1149, 1150, 1151, 1152, 1153, 1154, 1155, 1156, 1157, 1158, 1159, 1160, 1161, 1162, 1163, 1164, 1165, 1166, 1167, 1168, 1169, 1170, 1171, 1172, 1173, 1174, 1175, 1176, 1177, 1178, 1179, 1180, 1181, 1182, 1183, 1184, 1185, 1186, 1187, 1188, 1189, 1190, 1191, 1192, 1193, 1194, 1195, 1196, 1197, 1198, 1199, 1200, 1201, 1202, 1203, 1204, 1205, 1206, 1207, 1208, 1209, 1210, 1211, 1212, 1213, 1214, 1215, 1216, 1217, 1218, 1219, 1220, 1221, 1222, 1223, 1224, 1225, 1226, 1227, 1228, 1229, 1230, 1231, 1232, 1233, 1234, 1235, 1236, 1237, 1238, 1239, 1240, 1241, 1242, 1243, 1244, 1245, 1246, 1247, 1248, 1249, 1250, 1251, 1252, 1253, 1254, 1255, 1256, 1257, 1258, 1259, 1260, 1261, 1262, 1263, 1264, 1265, 1266, 1267, 1268, 1269, 1270, 1271, 1272, 1273, 1274, 1275, 1276, 1277, 1278, 1279, 1280, 1281, 1282, 1283, 1284, 1285, 1286, 1287, 1288, 1289, 1290, 1291, 1292, 1293, 1294, 1295, 1296, 1297, 1298, 1299, 1300, 1301, 1464, 1465, 1466, 1467, 1468, 1469, 1470, 1471, 1472, 1473, 1474, 1475, 1476, 1477, 1478, 1479, 1480, 1481, 1482, 1483, 1484, 1485, 1486, 1487, 1488, 1489, 1490, 1491, 1492, 1493, 1494, 1495, 1496, 1497, 1498, 1499, 1500, 1501, 1502, 1503, 1504, 1505, 1506, 1507, 1508, 1509, 1510, 1511, 1512, 1513, 1514, 1515, 1516, 1517, 1518, 1519, 1520, 1521, 1522, 1523, 1524, 1525, 1526, 1527, 1528, 1529, 1530, 1531, 1532, 1533, 1534, 1535, 1536, 1537, 1538, 1539, 1540, 1541, 1542, 1543, 1544, 1545, 1546, 1547, 1548, 1549, 1550, 1551, 1552, 1553, 1554, 1555, 1556, 1557, 1558, 1559, 1560, 1561, 1562, 1563, 1564, 1565, 1566, 1567, 1568, 1569, 1570, 1571, 1572, 1573, 1574, 1575, 1576, 1577, 1578, 1579, 1580, 1581, 1582, 1583, 1584, 1585, 1586, 1587, 1588, 1589, 1590, 1591, 1592, 1593, 1594, 1595, 1596, 1597, 1598, 1599, 1600, 1601, 1602, 1603, 1604, 1605, 1606, 1607, 1608, 1609, 1610, 1611, 1612, 1613, 1614, 1615, 1616, 1617, 1618, 1619, 1620, 1621, 1622, 1623, 1624, 1625] \n",
            "\n",
            "Test Index:  [1302, 1303, 1304, 1305, 1306, 1307, 1308, 1309, 1310, 1311, 1312, 1313, 1314, 1315, 1316, 1317, 1318, 1319, 1320, 1321, 1322, 1323, 1324, 1325, 1326, 1327, 1328, 1329, 1330, 1331, 1332, 1333, 1334, 1335, 1336, 1337, 1338, 1339, 1340, 1341, 1342, 1343, 1344, 1345, 1346, 1347, 1348, 1349, 1350, 1351, 1352, 1353, 1354, 1355, 1356, 1357, 1358, 1359, 1360, 1361, 1362, 1363, 1364, 1365, 1366, 1367, 1368, 1369, 1370, 1371, 1372, 1373, 1374, 1375, 1376, 1377, 1378, 1379, 1380, 1381, 1382, 1383, 1384, 1385, 1386, 1387, 1388, 1389, 1390, 1391, 1392, 1393, 1394, 1395, 1396, 1397, 1398, 1399, 1400, 1401, 1402, 1403, 1404, 1405, 1406, 1407, 1408, 1409, 1410, 1411, 1412, 1413, 1414, 1415, 1416, 1417, 1418, 1419, 1420, 1421, 1422, 1423, 1424, 1425, 1426, 1427, 1428, 1429, 1430, 1431, 1432, 1433, 1434, 1435, 1436, 1437, 1438, 1439, 1440, 1441, 1442, 1443, 1444, 1445, 1446, 1447, 1448, 1449, 1450, 1451, 1452, 1453, 1454, 1455, 1456, 1457, 1458, 1459, 1460, 1461, 1462, 1463]\n",
            "1464\n",
            "       ALogP         ATS0m     AATS6m      AATS8v    AATS8e      AATS1i  \\\n",
            "0    -0.9195   2588.934432  48.158117  178.551366  7.519247  149.013676   \n",
            "1     0.4614   5634.103006  94.201531  196.140696  7.581138  146.305448   \n",
            "2     0.5112   2834.386834  42.637339  168.834145  7.509380  140.140072   \n",
            "3    -1.4450   5379.145233  39.184295  172.733317  7.712846  150.265098   \n",
            "4    -2.5272   4699.962622  65.748944  205.559532  7.809137  151.119831   \n",
            "...      ...           ...        ...         ...       ...         ...   \n",
            "1621  0.5317   6538.883379  73.059980  171.734927  7.735404  145.913746   \n",
            "1622 -2.7617   3733.568143  45.776943  121.335394  7.225093  146.094410   \n",
            "1623 -1.9360   2312.665429  55.352296   84.489903  8.875008  156.331998   \n",
            "1624  0.5327  11563.534144  75.799339  177.333851  7.557782  148.609720   \n",
            "1625  0.7261   4047.640877  82.294693  124.140446  8.055580  146.326666   \n",
            "\n",
            "          AATS3i    AATS2s     AATS7s    AATS8s  ...  ETA_dBeta  nHBDon  \\\n",
            "0     161.485521  3.284722   3.060185  2.833333  ...       2.25       2   \n",
            "1     158.591102  2.332989   1.925086  2.089559  ...      -4.25       2   \n",
            "2     148.667669  3.262452   3.059524  3.482759  ...       3.00       1   \n",
            "3     164.092245  2.858286   2.398794  2.870885  ...      -3.75       2   \n",
            "4     157.628443  4.743490   3.223584  3.759916  ...       6.00       4   \n",
            "...          ...       ...        ...       ...  ...        ...     ...   \n",
            "1621  160.050733  3.770138   3.360889  3.306493  ...       1.75       1   \n",
            "1622  157.964277  2.460259   2.165450  1.798122  ...      -7.00       1   \n",
            "1623  167.053605  5.068966  12.950000  6.500000  ...       2.00       1   \n",
            "1624  157.581175  2.932039   3.048591  2.701007  ...       1.50       2   \n",
            "1625  154.860488  3.980869   3.732419  3.509184  ...       3.25       2   \n",
            "\n",
            "           MIC2      ZMIC5   MDEC-33  MLFER_E  n6Ring  nHeteroRing  \\\n",
            "0     30.767343  24.812853  1.310371    1.985     2.0          1.0   \n",
            "1     39.741788  28.585041  3.383162    2.060     1.0          2.0   \n",
            "2     32.621372  22.616729  8.250206    1.857     2.0          0.0   \n",
            "3     37.626171  29.787688  6.467895    3.576     3.0          3.0   \n",
            "4     39.955030  30.249632  3.706843    3.322     2.0          1.0   \n",
            "...         ...        ...       ...      ...     ...          ...   \n",
            "1621  47.157151  26.789769  8.969086    3.474     3.0          2.0   \n",
            "1622  31.040645  27.208856  2.381102    1.055     1.0          1.0   \n",
            "1623  39.555130  21.159591  1.105209    1.140     1.0          1.0   \n",
            "1624  46.511076  31.522392  5.511349    3.332     3.0          1.0   \n",
            "1625  43.329163  23.295470  6.120464    2.098     2.0          1.0   \n",
            "\n",
            "      n6HeteroRing      SRW5  \n",
            "0              1.0  0.000000  \n",
            "1              0.0  3.044522  \n",
            "2              0.0  2.397895  \n",
            "3              2.0  2.397895  \n",
            "4              0.0  2.397895  \n",
            "...            ...       ...  \n",
            "1621           1.0  2.397895  \n",
            "1622           0.0  3.044522  \n",
            "1623           1.0  0.000000  \n",
            "1624           1.0  0.000000  \n",
            "1625           1.0  0.000000  \n",
            "\n",
            "[1626 rows x 34 columns]\n",
            "Train Index:  [0, 1, 2, 3, 4, 5, 6, 7, 8, 9, 10, 11, 12, 13, 14, 15, 16, 17, 18, 19, 20, 21, 22, 23, 24, 25, 26, 27, 28, 29, 30, 31, 32, 33, 34, 35, 36, 37, 38, 39, 40, 41, 42, 43, 44, 45, 46, 47, 48, 49, 50, 51, 52, 53, 54, 55, 56, 57, 58, 59, 60, 61, 62, 63, 64, 65, 66, 67, 68, 69, 70, 71, 72, 73, 74, 75, 76, 77, 78, 79, 80, 81, 82, 83, 84, 85, 86, 87, 88, 89, 90, 91, 92, 93, 94, 95, 96, 97, 98, 99, 100, 101, 102, 103, 104, 105, 106, 107, 108, 109, 110, 111, 112, 113, 114, 115, 116, 117, 118, 119, 120, 121, 122, 123, 124, 125, 126, 127, 128, 129, 130, 131, 132, 133, 134, 135, 136, 137, 138, 139, 140, 141, 142, 143, 144, 145, 146, 147, 148, 149, 150, 151, 152, 153, 154, 155, 156, 157, 158, 159, 160, 161, 162, 163, 164, 165, 166, 167, 168, 169, 170, 171, 172, 173, 174, 175, 176, 177, 178, 179, 180, 181, 182, 183, 184, 185, 186, 187, 188, 189, 190, 191, 192, 193, 194, 195, 196, 197, 198, 199, 200, 201, 202, 203, 204, 205, 206, 207, 208, 209, 210, 211, 212, 213, 214, 215, 216, 217, 218, 219, 220, 221, 222, 223, 224, 225, 226, 227, 228, 229, 230, 231, 232, 233, 234, 235, 236, 237, 238, 239, 240, 241, 242, 243, 244, 245, 246, 247, 248, 249, 250, 251, 252, 253, 254, 255, 256, 257, 258, 259, 260, 261, 262, 263, 264, 265, 266, 267, 268, 269, 270, 271, 272, 273, 274, 275, 276, 277, 278, 279, 280, 281, 282, 283, 284, 285, 286, 287, 288, 289, 290, 291, 292, 293, 294, 295, 296, 297, 298, 299, 300, 301, 302, 303, 304, 305, 306, 307, 308, 309, 310, 311, 312, 313, 314, 315, 316, 317, 318, 319, 320, 321, 322, 323, 324, 325, 326, 327, 328, 329, 330, 331, 332, 333, 334, 335, 336, 337, 338, 339, 340, 341, 342, 343, 344, 345, 346, 347, 348, 349, 350, 351, 352, 353, 354, 355, 356, 357, 358, 359, 360, 361, 362, 363, 364, 365, 366, 367, 368, 369, 370, 371, 372, 373, 374, 375, 376, 377, 378, 379, 380, 381, 382, 383, 384, 385, 386, 387, 388, 389, 390, 391, 392, 393, 394, 395, 396, 397, 398, 399, 400, 401, 402, 403, 404, 405, 406, 407, 408, 409, 410, 411, 412, 413, 414, 415, 416, 417, 418, 419, 420, 421, 422, 423, 424, 425, 426, 427, 428, 429, 430, 431, 432, 433, 434, 435, 436, 437, 438, 439, 440, 441, 442, 443, 444, 445, 446, 447, 448, 449, 450, 451, 452, 453, 454, 455, 456, 457, 458, 459, 460, 461, 462, 463, 464, 465, 466, 467, 468, 469, 470, 471, 472, 473, 474, 475, 476, 477, 478, 479, 480, 481, 482, 483, 484, 485, 486, 487, 488, 489, 490, 491, 492, 493, 494, 495, 496, 497, 498, 499, 500, 501, 502, 503, 504, 505, 506, 507, 508, 509, 510, 511, 512, 513, 514, 515, 516, 517, 518, 519, 520, 521, 522, 523, 524, 525, 526, 527, 528, 529, 530, 531, 532, 533, 534, 535, 536, 537, 538, 539, 540, 541, 542, 543, 544, 545, 546, 547, 548, 549, 550, 551, 552, 553, 554, 555, 556, 557, 558, 559, 560, 561, 562, 563, 564, 565, 566, 567, 568, 569, 570, 571, 572, 573, 574, 575, 576, 577, 578, 579, 580, 581, 582, 583, 584, 585, 586, 587, 588, 589, 590, 591, 592, 593, 594, 595, 596, 597, 598, 599, 600, 601, 602, 603, 604, 605, 606, 607, 608, 609, 610, 611, 612, 613, 614, 615, 616, 617, 618, 619, 620, 621, 622, 623, 624, 625, 626, 627, 628, 629, 630, 631, 632, 633, 634, 635, 636, 637, 638, 639, 640, 641, 642, 643, 644, 645, 646, 647, 648, 649, 650, 651, 652, 653, 654, 655, 656, 657, 658, 659, 660, 661, 662, 663, 664, 665, 666, 667, 668, 669, 670, 671, 672, 673, 674, 675, 676, 677, 678, 679, 680, 681, 682, 683, 684, 685, 686, 687, 688, 689, 690, 691, 692, 693, 694, 695, 696, 697, 698, 699, 700, 701, 702, 703, 704, 705, 706, 707, 708, 709, 710, 711, 712, 713, 714, 715, 716, 717, 718, 719, 720, 721, 722, 723, 724, 725, 726, 727, 728, 729, 730, 731, 732, 733, 734, 735, 736, 737, 738, 739, 740, 741, 742, 743, 744, 745, 746, 747, 748, 749, 750, 751, 752, 753, 754, 755, 756, 757, 758, 759, 760, 761, 762, 763, 764, 765, 766, 767, 768, 769, 770, 771, 772, 773, 774, 775, 776, 777, 778, 779, 780, 781, 782, 783, 784, 785, 786, 787, 788, 789, 790, 791, 792, 793, 794, 795, 796, 797, 798, 799, 800, 801, 802, 803, 804, 805, 806, 807, 808, 809, 810, 811, 812, 813, 814, 815, 816, 817, 818, 819, 820, 821, 822, 823, 824, 825, 826, 827, 828, 829, 830, 831, 832, 833, 834, 835, 836, 837, 838, 839, 840, 841, 842, 843, 844, 845, 846, 847, 848, 849, 850, 851, 852, 853, 854, 855, 856, 857, 858, 859, 860, 861, 862, 863, 864, 865, 866, 867, 868, 869, 870, 871, 872, 873, 874, 875, 876, 877, 878, 879, 880, 881, 882, 883, 884, 885, 886, 887, 888, 889, 890, 891, 892, 893, 894, 895, 896, 897, 898, 899, 900, 901, 902, 903, 904, 905, 906, 907, 908, 909, 910, 911, 912, 913, 914, 915, 916, 917, 918, 919, 920, 921, 922, 923, 924, 925, 926, 927, 928, 929, 930, 931, 932, 933, 934, 935, 936, 937, 938, 939, 940, 941, 942, 943, 944, 945, 946, 947, 948, 949, 950, 951, 952, 953, 954, 955, 956, 957, 958, 959, 960, 961, 962, 963, 964, 965, 966, 967, 968, 969, 970, 971, 972, 973, 974, 975, 976, 977, 978, 979, 980, 981, 982, 983, 984, 985, 986, 987, 988, 989, 990, 991, 992, 993, 994, 995, 996, 997, 998, 999, 1000, 1001, 1002, 1003, 1004, 1005, 1006, 1007, 1008, 1009, 1010, 1011, 1012, 1013, 1014, 1015, 1016, 1017, 1018, 1019, 1020, 1021, 1022, 1023, 1024, 1025, 1026, 1027, 1028, 1029, 1030, 1031, 1032, 1033, 1034, 1035, 1036, 1037, 1038, 1039, 1040, 1041, 1042, 1043, 1044, 1045, 1046, 1047, 1048, 1049, 1050, 1051, 1052, 1053, 1054, 1055, 1056, 1057, 1058, 1059, 1060, 1061, 1062, 1063, 1064, 1065, 1066, 1067, 1068, 1069, 1070, 1071, 1072, 1073, 1074, 1075, 1076, 1077, 1078, 1079, 1080, 1081, 1082, 1083, 1084, 1085, 1086, 1087, 1088, 1089, 1090, 1091, 1092, 1093, 1094, 1095, 1096, 1097, 1098, 1099, 1100, 1101, 1102, 1103, 1104, 1105, 1106, 1107, 1108, 1109, 1110, 1111, 1112, 1113, 1114, 1115, 1116, 1117, 1118, 1119, 1120, 1121, 1122, 1123, 1124, 1125, 1126, 1127, 1128, 1129, 1130, 1131, 1132, 1133, 1134, 1135, 1136, 1137, 1138, 1139, 1140, 1141, 1142, 1143, 1144, 1145, 1146, 1147, 1148, 1149, 1150, 1151, 1152, 1153, 1154, 1155, 1156, 1157, 1158, 1159, 1160, 1161, 1162, 1163, 1164, 1165, 1166, 1167, 1168, 1169, 1170, 1171, 1172, 1173, 1174, 1175, 1176, 1177, 1178, 1179, 1180, 1181, 1182, 1183, 1184, 1185, 1186, 1187, 1188, 1189, 1190, 1191, 1192, 1193, 1194, 1195, 1196, 1197, 1198, 1199, 1200, 1201, 1202, 1203, 1204, 1205, 1206, 1207, 1208, 1209, 1210, 1211, 1212, 1213, 1214, 1215, 1216, 1217, 1218, 1219, 1220, 1221, 1222, 1223, 1224, 1225, 1226, 1227, 1228, 1229, 1230, 1231, 1232, 1233, 1234, 1235, 1236, 1237, 1238, 1239, 1240, 1241, 1242, 1243, 1244, 1245, 1246, 1247, 1248, 1249, 1250, 1251, 1252, 1253, 1254, 1255, 1256, 1257, 1258, 1259, 1260, 1261, 1262, 1263, 1264, 1265, 1266, 1267, 1268, 1269, 1270, 1271, 1272, 1273, 1274, 1275, 1276, 1277, 1278, 1279, 1280, 1281, 1282, 1283, 1284, 1285, 1286, 1287, 1288, 1289, 1290, 1291, 1292, 1293, 1294, 1295, 1296, 1297, 1298, 1299, 1300, 1301, 1302, 1303, 1304, 1305, 1306, 1307, 1308, 1309, 1310, 1311, 1312, 1313, 1314, 1315, 1316, 1317, 1318, 1319, 1320, 1321, 1322, 1323, 1324, 1325, 1326, 1327, 1328, 1329, 1330, 1331, 1332, 1333, 1334, 1335, 1336, 1337, 1338, 1339, 1340, 1341, 1342, 1343, 1344, 1345, 1346, 1347, 1348, 1349, 1350, 1351, 1352, 1353, 1354, 1355, 1356, 1357, 1358, 1359, 1360, 1361, 1362, 1363, 1364, 1365, 1366, 1367, 1368, 1369, 1370, 1371, 1372, 1373, 1374, 1375, 1376, 1377, 1378, 1379, 1380, 1381, 1382, 1383, 1384, 1385, 1386, 1387, 1388, 1389, 1390, 1391, 1392, 1393, 1394, 1395, 1396, 1397, 1398, 1399, 1400, 1401, 1402, 1403, 1404, 1405, 1406, 1407, 1408, 1409, 1410, 1411, 1412, 1413, 1414, 1415, 1416, 1417, 1418, 1419, 1420, 1421, 1422, 1423, 1424, 1425, 1426, 1427, 1428, 1429, 1430, 1431, 1432, 1433, 1434, 1435, 1436, 1437, 1438, 1439, 1440, 1441, 1442, 1443, 1444, 1445, 1446, 1447, 1448, 1449, 1450, 1451, 1452, 1453, 1454, 1455, 1456, 1457, 1458, 1459, 1460, 1461, 1462, 1463] \n",
            "\n",
            "Test Index:  [1464, 1465, 1466, 1467, 1468, 1469, 1470, 1471, 1472, 1473, 1474, 1475, 1476, 1477, 1478, 1479, 1480, 1481, 1482, 1483, 1484, 1485, 1486, 1487, 1488, 1489, 1490, 1491, 1492, 1493, 1494, 1495, 1496, 1497, 1498, 1499, 1500, 1501, 1502, 1503, 1504, 1505, 1506, 1507, 1508, 1509, 1510, 1511, 1512, 1513, 1514, 1515, 1516, 1517, 1518, 1519, 1520, 1521, 1522, 1523, 1524, 1525, 1526, 1527, 1528, 1529, 1530, 1531, 1532, 1533, 1534, 1535, 1536, 1537, 1538, 1539, 1540, 1541, 1542, 1543, 1544, 1545, 1546, 1547, 1548, 1549, 1550, 1551, 1552, 1553, 1554, 1555, 1556, 1557, 1558, 1559, 1560, 1561, 1562, 1563, 1564, 1565, 1566, 1567, 1568, 1569, 1570, 1571, 1572, 1573, 1574, 1575, 1576, 1577, 1578, 1579, 1580, 1581, 1582, 1583, 1584, 1585, 1586, 1587, 1588, 1589, 1590, 1591, 1592, 1593, 1594, 1595, 1596, 1597, 1598, 1599, 1600, 1601, 1602, 1603, 1604, 1605, 1606, 1607, 1608, 1609, 1610, 1611, 1612, 1613, 1614, 1615, 1616, 1617, 1618, 1619, 1620, 1621, 1622, 1623, 1624, 1625]\n",
            "1464\n",
            "       ALogP         ATS0m     AATS6m      AATS8v    AATS8e      AATS1i  \\\n",
            "0    -0.9195   2588.934432  48.158117  178.551366  7.519247  149.013676   \n",
            "1     0.4614   5634.103006  94.201531  196.140696  7.581138  146.305448   \n",
            "2     0.5112   2834.386834  42.637339  168.834145  7.509380  140.140072   \n",
            "3    -1.4450   5379.145233  39.184295  172.733317  7.712846  150.265098   \n",
            "4    -2.5272   4699.962622  65.748944  205.559532  7.809137  151.119831   \n",
            "...      ...           ...        ...         ...       ...         ...   \n",
            "1621  0.5317   6538.883379  73.059980  171.734927  7.735404  145.913746   \n",
            "1622 -2.7617   3733.568143  45.776943  121.335394  7.225093  146.094410   \n",
            "1623 -1.9360   2312.665429  55.352296   84.489903  8.875008  156.331998   \n",
            "1624  0.5327  11563.534144  75.799339  177.333851  7.557782  148.609720   \n",
            "1625  0.7261   4047.640877  82.294693  124.140446  8.055580  146.326666   \n",
            "\n",
            "          AATS3i    AATS2s     AATS7s    AATS8s  ...  ETA_dBeta  nHBDon  \\\n",
            "0     161.485521  3.284722   3.060185  2.833333  ...       2.25       2   \n",
            "1     158.591102  2.332989   1.925086  2.089559  ...      -4.25       2   \n",
            "2     148.667669  3.262452   3.059524  3.482759  ...       3.00       1   \n",
            "3     164.092245  2.858286   2.398794  2.870885  ...      -3.75       2   \n",
            "4     157.628443  4.743490   3.223584  3.759916  ...       6.00       4   \n",
            "...          ...       ...        ...       ...  ...        ...     ...   \n",
            "1621  160.050733  3.770138   3.360889  3.306493  ...       1.75       1   \n",
            "1622  157.964277  2.460259   2.165450  1.798122  ...      -7.00       1   \n",
            "1623  167.053605  5.068966  12.950000  6.500000  ...       2.00       1   \n",
            "1624  157.581175  2.932039   3.048591  2.701007  ...       1.50       2   \n",
            "1625  154.860488  3.980869   3.732419  3.509184  ...       3.25       2   \n",
            "\n",
            "           MIC2      ZMIC5   MDEC-33  MLFER_E  n6Ring  nHeteroRing  \\\n",
            "0     30.767343  24.812853  1.310371    1.985     2.0          1.0   \n",
            "1     39.741788  28.585041  3.383162    2.060     1.0          2.0   \n",
            "2     32.621372  22.616729  8.250206    1.857     2.0          0.0   \n",
            "3     37.626171  29.787688  6.467895    3.576     3.0          3.0   \n",
            "4     39.955030  30.249632  3.706843    3.322     2.0          1.0   \n",
            "...         ...        ...       ...      ...     ...          ...   \n",
            "1621  47.157151  26.789769  8.969086    3.474     3.0          2.0   \n",
            "1622  31.040645  27.208856  2.381102    1.055     1.0          1.0   \n",
            "1623  39.555130  21.159591  1.105209    1.140     1.0          1.0   \n",
            "1624  46.511076  31.522392  5.511349    3.332     3.0          1.0   \n",
            "1625  43.329163  23.295470  6.120464    2.098     2.0          1.0   \n",
            "\n",
            "      n6HeteroRing      SRW5  \n",
            "0              1.0  0.000000  \n",
            "1              0.0  3.044522  \n",
            "2              0.0  2.397895  \n",
            "3              2.0  2.397895  \n",
            "4              0.0  2.397895  \n",
            "...            ...       ...  \n",
            "1621           1.0  2.397895  \n",
            "1622           0.0  3.044522  \n",
            "1623           1.0  0.000000  \n",
            "1624           1.0  0.000000  \n",
            "1625           1.0  0.000000  \n",
            "\n",
            "[1626 rows x 34 columns]\n"
          ],
          "name": "stdout"
        }
      ]
    },
    {
      "cell_type": "code",
      "metadata": {
        "id": "ETBSgLb6HGnB",
        "colab_type": "code",
        "colab": {},
        "outputId": "67c75569-9b39-4cbf-e71c-4b4fa0be1fab"
      },
      "source": [
        "list_a = [0,1,2,3,4,5]\n",
        "\n",
        "list_a[-3:-1]"
      ],
      "execution_count": 0,
      "outputs": [
        {
          "output_type": "execute_result",
          "data": {
            "text/plain": [
              "[3, 4]"
            ]
          },
          "metadata": {
            "tags": []
          },
          "execution_count": 197
        }
      ]
    },
    {
      "cell_type": "code",
      "metadata": {
        "id": "zLIAIRnsHGnE",
        "colab_type": "code",
        "colab": {},
        "outputId": "376074c6-cf3f-4016-bd69-702b726157d2"
      },
      "source": [
        "cv = KFold(n_splits=10, random_state=42, shuffle=False)\n",
        "print(cv)\n",
        "k_fold = 4\n",
        "train_fitur = data_train_fitur.loc[:20,feature_selected] \n",
        "train_label = y_train\n",
        "#print(train_label.iloc[:].shape)\n",
        "\n",
        "n_data = train_fitur.loc[:20,:].shape[0]\n",
        "start = 0\n",
        "step = n_data//k_fold\n",
        "end = step\n",
        "#print(end)\n",
        "for i in range(k_fold) :\n",
        "    X_test, y_test = train_fitur.loc[start:end,feature_selected] , train_fitur.iloc[start:end]\n",
        "    X_train, y_train = train_fitur.loc[end:,feature_selected] , train_fitur.iloc[end:]\n",
        "    print(start,end)\n",
        "    start = end\n",
        "    end = start + step\n",
        "    print(\"K\",i)    \n",
        "    print(y_test)    \n",
        "    print(y_train)\n",
        "    #print(len(X_test),len(X_train))"
      ],
      "execution_count": 0,
      "outputs": [
        {
          "output_type": "stream",
          "text": [
            "KFold(n_splits=10, random_state=42, shuffle=False)\n",
            "0 5\n",
            "K 0\n",
            "      ATSC8i  n6HeteroRing   ALogP      ATSC1m    AATS7s\n",
            "0   3.665693           1.0 -0.9195   10.143350  3.060185\n",
            "1 -14.913076           0.0  0.4614  227.694609  1.925086\n",
            "2 -15.128616           0.0  0.5112   15.993973  3.059524\n",
            "3  21.492683           2.0 -1.4450  138.131207  2.398794\n",
            "4   8.420096           0.0 -2.5272  355.631532  3.223584\n",
            "       ATSC8i  n6HeteroRing   ALogP      ATSC1m    AATS7s\n",
            "5    1.648183           1.0 -0.8845  218.276296  2.968450\n",
            "6   25.722061           1.0 -0.6824  110.083927  2.214815\n",
            "7    7.967441           0.0 -0.7282  -32.406581  3.743590\n",
            "8   19.871346           0.0  0.4224   78.552543  3.626503\n",
            "9  -11.016873           1.0 -1.2126   24.798538  4.031963\n",
            "10   5.020188           0.0 -2.2514  371.125888  3.937483\n",
            "11 -13.121557           0.0  0.3519   -9.461032  3.583333\n",
            "12  -3.908630           0.0  0.5380  -66.507820  3.295086\n",
            "13  -4.922489           0.0  1.1303   46.511581  1.948948\n",
            "14  -2.052518           2.0 -0.3725   62.920677  3.215933\n",
            "15   5.423139           2.0  0.8284   41.642312  3.539988\n",
            "16 -16.487490           1.0 -1.2367   87.121599  2.904284\n",
            "17  17.168770           0.0  1.2103  480.443371  3.470576\n",
            "18  -3.349576           0.0 -1.1091   48.860789  2.677885\n",
            "19   0.000000           0.0 -1.2795   61.542775  1.000000\n",
            "20 -18.155247           1.0 -1.2755  131.446832  1.959350\n",
            "5 10\n",
            "K 1\n",
            "      ATSC8i  n6HeteroRing   ALogP      ATSC1m    AATS7s\n",
            "5   1.648183           1.0 -0.8845  218.276296  2.968450\n",
            "6  25.722061           1.0 -0.6824  110.083927  2.214815\n",
            "7   7.967441           0.0 -0.7282  -32.406581  3.743590\n",
            "8  19.871346           0.0  0.4224   78.552543  3.626503\n",
            "9 -11.016873           1.0 -1.2126   24.798538  4.031963\n",
            "       ATSC8i  n6HeteroRing   ALogP      ATSC1m    AATS7s\n",
            "10   5.020188           0.0 -2.2514  371.125888  3.937483\n",
            "11 -13.121557           0.0  0.3519   -9.461032  3.583333\n",
            "12  -3.908630           0.0  0.5380  -66.507820  3.295086\n",
            "13  -4.922489           0.0  1.1303   46.511581  1.948948\n",
            "14  -2.052518           2.0 -0.3725   62.920677  3.215933\n",
            "15   5.423139           2.0  0.8284   41.642312  3.539988\n",
            "16 -16.487490           1.0 -1.2367   87.121599  2.904284\n",
            "17  17.168770           0.0  1.2103  480.443371  3.470576\n",
            "18  -3.349576           0.0 -1.1091   48.860789  2.677885\n",
            "19   0.000000           0.0 -1.2795   61.542775  1.000000\n",
            "20 -18.155247           1.0 -1.2755  131.446832  1.959350\n",
            "10 15\n",
            "K 2\n",
            "       ATSC8i  n6HeteroRing   ALogP      ATSC1m    AATS7s\n",
            "10   5.020188           0.0 -2.2514  371.125888  3.937483\n",
            "11 -13.121557           0.0  0.3519   -9.461032  3.583333\n",
            "12  -3.908630           0.0  0.5380  -66.507820  3.295086\n",
            "13  -4.922489           0.0  1.1303   46.511581  1.948948\n",
            "14  -2.052518           2.0 -0.3725   62.920677  3.215933\n",
            "       ATSC8i  n6HeteroRing   ALogP      ATSC1m    AATS7s\n",
            "15   5.423139           2.0  0.8284   41.642312  3.539988\n",
            "16 -16.487490           1.0 -1.2367   87.121599  2.904284\n",
            "17  17.168770           0.0  1.2103  480.443371  3.470576\n",
            "18  -3.349576           0.0 -1.1091   48.860789  2.677885\n",
            "19   0.000000           0.0 -1.2795   61.542775  1.000000\n",
            "20 -18.155247           1.0 -1.2755  131.446832  1.959350\n",
            "15 20\n",
            "K 3\n",
            "       ATSC8i  n6HeteroRing   ALogP      ATSC1m    AATS7s\n",
            "15   5.423139           2.0  0.8284   41.642312  3.539988\n",
            "16 -16.487490           1.0 -1.2367   87.121599  2.904284\n",
            "17  17.168770           0.0  1.2103  480.443371  3.470576\n",
            "18  -3.349576           0.0 -1.1091   48.860789  2.677885\n",
            "19   0.000000           0.0 -1.2795   61.542775  1.000000\n",
            "       ATSC8i  n6HeteroRing   ALogP      ATSC1m   AATS7s\n",
            "20 -18.155247           1.0 -1.2755  131.446832  1.95935\n"
          ],
          "name": "stdout"
        }
      ]
    },
    {
      "cell_type": "code",
      "metadata": {
        "id": "sXbuG32E1f_G",
        "colab_type": "code",
        "outputId": "c725212a-699a-40fe-f90d-61f3c89b9624",
        "colab": {
          "base_uri": "https://localhost:8080/",
          "height": 72
        }
      },
      "source": [
        "sfm = SelectFromModel(clf, threshold=0.015)\n",
        "# Train the selector\n",
        "sfm.fit(X_train, y_train)\n",
        "len(sfm.get_support())"
      ],
      "execution_count": 0,
      "outputs": [
        {
          "output_type": "stream",
          "text": [
            "[Parallel(n_jobs=1)]: Using backend SequentialBackend with 1 concurrent workers.\n",
            "[Parallel(n_jobs=1)]: Done 100 out of 100 | elapsed:    0.3s finished\n"
          ],
          "name": "stderr"
        },
        {
          "output_type": "execute_result",
          "data": {
            "text/plain": [
              "34"
            ]
          },
          "metadata": {
            "tags": []
          },
          "execution_count": 52
        }
      ]
    },
    {
      "cell_type": "code",
      "metadata": {
        "id": "ftMeaHPO1f_T",
        "colab_type": "code",
        "outputId": "bca905f7-22f9-4a6f-e05b-e29d8d979cef",
        "colab": {
          "base_uri": "https://localhost:8080/",
          "height": 466
        }
      },
      "source": [
        "\"\"\"feature_selected = []\n",
        "for feature_list_index in sfm.get_support(indices=True):\n",
        "    #print(feature_list_index)\n",
        "    #print(feature[feature_list_index])\n",
        "    feature_selected.append(feature[feature_list_index])\"\"\"\n",
        "\n",
        "data = data_train.loc[:,[x for x in feature_selected]]\n",
        "correlation = data.corr()\n",
        "correlation"
      ],
      "execution_count": 0,
      "outputs": [
        {
          "output_type": "execute_result",
          "data": {
            "text/plain": [
              "              n6HeteroRing    ATSC8i    AATS2s    AATS7s    ATSC1i\n",
              "n6HeteroRing      1.000000  0.067470 -0.158656 -0.077016 -0.633957\n",
              "ATSC8i            0.067470  1.000000  0.145636  0.101113 -0.177527\n",
              "AATS2s           -0.158656  0.145636  1.000000  0.698409  0.202387\n",
              "AATS7s           -0.077016  0.101113  0.698409  1.000000  0.152548\n",
              "ATSC1i           -0.633957 -0.177527  0.202387  0.152548  1.000000"
            ],
            "text/html": [
              "<div>\n",
              "<style scoped>\n",
              "    .dataframe tbody tr th:only-of-type {\n",
              "        vertical-align: middle;\n",
              "    }\n",
              "\n",
              "    .dataframe tbody tr th {\n",
              "        vertical-align: top;\n",
              "    }\n",
              "\n",
              "    .dataframe thead th {\n",
              "        text-align: right;\n",
              "    }\n",
              "</style>\n",
              "<table border=\"1\" class=\"dataframe\">\n",
              "  <thead>\n",
              "    <tr style=\"text-align: right;\">\n",
              "      <th></th>\n",
              "      <th>n6HeteroRing</th>\n",
              "      <th>ATSC8i</th>\n",
              "      <th>AATS2s</th>\n",
              "      <th>AATS7s</th>\n",
              "      <th>ATSC1i</th>\n",
              "    </tr>\n",
              "  </thead>\n",
              "  <tbody>\n",
              "    <tr>\n",
              "      <th>n6HeteroRing</th>\n",
              "      <td>1.000000</td>\n",
              "      <td>0.067470</td>\n",
              "      <td>-0.158656</td>\n",
              "      <td>-0.077016</td>\n",
              "      <td>-0.633957</td>\n",
              "    </tr>\n",
              "    <tr>\n",
              "      <th>ATSC8i</th>\n",
              "      <td>0.067470</td>\n",
              "      <td>1.000000</td>\n",
              "      <td>0.145636</td>\n",
              "      <td>0.101113</td>\n",
              "      <td>-0.177527</td>\n",
              "    </tr>\n",
              "    <tr>\n",
              "      <th>AATS2s</th>\n",
              "      <td>-0.158656</td>\n",
              "      <td>0.145636</td>\n",
              "      <td>1.000000</td>\n",
              "      <td>0.698409</td>\n",
              "      <td>0.202387</td>\n",
              "    </tr>\n",
              "    <tr>\n",
              "      <th>AATS7s</th>\n",
              "      <td>-0.077016</td>\n",
              "      <td>0.101113</td>\n",
              "      <td>0.698409</td>\n",
              "      <td>1.000000</td>\n",
              "      <td>0.152548</td>\n",
              "    </tr>\n",
              "    <tr>\n",
              "      <th>ATSC1i</th>\n",
              "      <td>-0.633957</td>\n",
              "      <td>-0.177527</td>\n",
              "      <td>0.202387</td>\n",
              "      <td>0.152548</td>\n",
              "      <td>1.000000</td>\n",
              "    </tr>\n",
              "  </tbody>\n",
              "</table>\n",
              "</div>"
            ]
          },
          "metadata": {
            "tags": []
          },
          "execution_count": 53
        }
      ]
    },
    {
      "cell_type": "code",
      "metadata": {
        "id": "tY_vFmf51f_z",
        "colab_type": "code",
        "outputId": "9d418149-0d0b-4988-d0ad-7eeb8fd4e3ca",
        "colab": {
          "base_uri": "https://localhost:8080/",
          "height": 35
        }
      },
      "source": [
        "y_important_pred = clf_important.predict(X_important_train)\n",
        "#print(X_important_train)\n",
        "accuracy_score(y_train, y_important_pred)"
      ],
      "execution_count": 0,
      "outputs": [
        {
          "output_type": "stream",
          "text": [
            "[[2.58893443e+03 4.81581174e+01 1.78551366e+02 ... 1.31037070e+00\n",
            "  1.98500000e+00 1.00000000e+00]\n",
            " [5.63410301e+03 9.42015312e+01 1.96140696e+02 ... 3.38316237e+00\n",
            "  2.06000000e+00 2.00000000e+00]\n",
            " [2.83438683e+03 4.26373393e+01 1.68834145e+02 ... 8.25020562e+00\n",
            "  1.85700000e+00 0.00000000e+00]\n",
            " ...\n",
            " [2.31266543e+03 5.53522955e+01 8.44899028e+01 ... 1.10520945e+00\n",
            "  1.14000000e+00 1.00000000e+00]\n",
            " [1.15635341e+04 7.57993393e+01 1.77333851e+02 ... 5.51134881e+00\n",
            "  3.33200000e+00 1.00000000e+00]\n",
            " [4.04764088e+03 8.22946928e+01 1.24140446e+02 ... 6.12046394e+00\n",
            "  2.09800000e+00 1.00000000e+00]]\n"
          ],
          "name": "stdout"
        },
        {
          "output_type": "execute_result",
          "data": {
            "text/plain": [
              "1.0"
            ]
          },
          "metadata": {
            "tags": []
          },
          "execution_count": 75
        }
      ]
    },
    {
      "cell_type": "code",
      "metadata": {
        "id": "u1QyqZ5a1f_l",
        "colab_type": "code",
        "colab": {}
      },
      "source": [
        "X_important_train = sfm.transform(X_train)\n",
        "X_important_test = sfm.transform(X_test)"
      ],
      "execution_count": 0,
      "outputs": []
    },
    {
      "cell_type": "code",
      "metadata": {
        "id": "ZpIcbV8H_J2B",
        "colab_type": "code",
        "outputId": "78828e83-d787-49b1-c805-d57979085776",
        "colab": {
          "base_uri": "https://localhost:8080/",
          "height": 126
        }
      },
      "source": [
        "def predict(X,y) :\n",
        "    y_pred_test_model_1 = model_1.predict(X)\n",
        "    con_matrix = confusion_matrix(y_pred_test_model_1, y)\n",
        "    accuracy = accuracy_score(y_pred_test_model_1,y)\n",
        "    tp, fp, fn, tn = con_matrix.ravel()\n",
        "    print(con_matrix)\n",
        "    print(tp, fp, fn, tn)\n",
        "    precision = tp/(tp+fp)\n",
        "    print(\"precision = \", precision)\n",
        "    recall = tp/(tp+fn)\n",
        "    print(\"recall = \", recall)\n",
        "    f1 = (2*recall*precision)/(recall+precision)\n",
        "    print(\"f1 = \",f1)\n",
        "    result = {\"matrix\":con_matrix,\"precision\":precision,\"recall\":recall,\"f1\":f1,\"accuracy\":accuracy}\n",
        "    return result\n",
        "\n",
        "predict(X_important_test,y_test)[\"matrix\"]\n"
      ],
      "execution_count": 0,
      "outputs": [
        {
          "output_type": "stream",
          "text": [
            "[[335  13]\n",
            " [ 10 339]]\n",
            "335 13 10 339\n",
            "precision =  0.9626436781609196\n",
            "recall =  0.9710144927536232\n",
            "f1 =  0.9668109668109667\n"
          ],
          "name": "stdout"
        },
        {
          "output_type": "execute_result",
          "data": {
            "text/plain": [
              "array([[335,  13],\n",
              "       [ 10, 339]], dtype=int64)"
            ]
          },
          "metadata": {
            "tags": []
          },
          "execution_count": 65
        }
      ]
    },
    {
      "cell_type": "code",
      "metadata": {
        "id": "iYdwx6Iu1f_4",
        "colab_type": "code",
        "outputId": "4f698c5a-00cc-43e9-f2f2-116203a898e0",
        "colab": {
          "base_uri": "https://localhost:8080/",
          "height": 35
        }
      },
      "source": [
        "from xgboost import XGBClassifier\n",
        "\n",
        "model_1 = XGBClassifier()\n",
        "\n",
        "model_1.fit(X_important_train,y_train)\n",
        "\n",
        "y_pred_train_model_1 = model_1.predict(X_important_train)\n",
        "\n",
        "accuracy_score(y_pred_train_model_1,y_train)"
      ],
      "execution_count": 0,
      "outputs": [
        {
          "output_type": "execute_result",
          "data": {
            "text/plain": [
              "1.0"
            ]
          },
          "metadata": {
            "tags": []
          },
          "execution_count": 66
        }
      ]
    },
    {
      "cell_type": "code",
      "metadata": {
        "id": "gL_A0aCNHGnY",
        "colab_type": "code",
        "colab": {},
        "outputId": "22c62243-035b-4ad0-c472-70aa1f68a946"
      },
      "source": [
        "from xgboost import XGBClassifier\n",
        "\n",
        "n_model = 2\n",
        "tuning = {\"learning_rate\" : [0.05, 0.10, 0.15, 0.20, 0.25, 0.30 ],\n",
        "        \"max_depth\" : [ 3, 4, 5, 6, 8, 10, 12, 15],\n",
        "        \"min_child_weight\" : [ 1, 3, 5, 7 ],\n",
        "        \"gamma\" : [ 0.0, 0.1, 0.2 , 0.3, 0.4 ],\n",
        "        \"colsample_bytree\": [ 0.3, 0.4, 0.5 , 0.7 ]\n",
        "}\n",
        "\n",
        "#print(tuning)\n",
        "pred= []\n",
        "\"\"\"\n",
        "for i in range(n_model) :\n",
        "    model = XGBClassifier(n_estimators = tuning['n_est'][i],learning_rate = tuning['l_rate'][i],max_depth=tuning['max_depth'][i])\n",
        "    #print(model)\n",
        "    print(model)\n",
        "    print(tuning['n_est'][i])\n",
        "    model.fit(X_important_train,y_train)\n",
        "    pred.append(predict(X_important_test,y_test))\"\"\"\n",
        "i = 1\n",
        "model = XGBClassifier(n_estimators = tuning['n_est'][i],learning_rate = tuning['l_rate'][i],max_depth=tuning['max_depth'][i])\n",
        "model.fit(X_important_train,y_train)\n",
        "y_pred_test = model.predict(X_important_test)\n",
        "#print(y_pred_test)\n",
        "con_matrix = confusion_matrix(y_pred_test, y_test)\n",
        "print(con_matrix)"
      ],
      "execution_count": 0,
      "outputs": [
        {
          "output_type": "error",
          "ename": "KeyError",
          "evalue": "'n_est'",
          "traceback": [
            "\u001b[1;31m---------------------------------------------------------------------------\u001b[0m",
            "\u001b[1;31mKeyError\u001b[0m                                  Traceback (most recent call last)",
            "\u001b[1;32m<ipython-input-67-c45a02677476>\u001b[0m in \u001b[0;36m<module>\u001b[1;34m\u001b[0m\n\u001b[0;32m     20\u001b[0m     pred.append(predict(X_important_test,y_test))\"\"\"\n\u001b[0;32m     21\u001b[0m \u001b[0mi\u001b[0m \u001b[1;33m=\u001b[0m \u001b[1;36m1\u001b[0m\u001b[1;33m\u001b[0m\u001b[1;33m\u001b[0m\u001b[0m\n\u001b[1;32m---> 22\u001b[1;33m \u001b[0mmodel\u001b[0m \u001b[1;33m=\u001b[0m \u001b[0mXGBClassifier\u001b[0m\u001b[1;33m(\u001b[0m\u001b[0mn_estimators\u001b[0m \u001b[1;33m=\u001b[0m \u001b[0mtuning\u001b[0m\u001b[1;33m[\u001b[0m\u001b[1;34m'n_est'\u001b[0m\u001b[1;33m]\u001b[0m\u001b[1;33m[\u001b[0m\u001b[0mi\u001b[0m\u001b[1;33m]\u001b[0m\u001b[1;33m,\u001b[0m\u001b[0mlearning_rate\u001b[0m \u001b[1;33m=\u001b[0m \u001b[0mtuning\u001b[0m\u001b[1;33m[\u001b[0m\u001b[1;34m'l_rate'\u001b[0m\u001b[1;33m]\u001b[0m\u001b[1;33m[\u001b[0m\u001b[0mi\u001b[0m\u001b[1;33m]\u001b[0m\u001b[1;33m,\u001b[0m\u001b[0mmax_depth\u001b[0m\u001b[1;33m=\u001b[0m\u001b[0mtuning\u001b[0m\u001b[1;33m[\u001b[0m\u001b[1;34m'max_depth'\u001b[0m\u001b[1;33m]\u001b[0m\u001b[1;33m[\u001b[0m\u001b[0mi\u001b[0m\u001b[1;33m]\u001b[0m\u001b[1;33m)\u001b[0m\u001b[1;33m\u001b[0m\u001b[1;33m\u001b[0m\u001b[0m\n\u001b[0m\u001b[0;32m     23\u001b[0m \u001b[0mmodel\u001b[0m\u001b[1;33m.\u001b[0m\u001b[0mfit\u001b[0m\u001b[1;33m(\u001b[0m\u001b[0mX_important_train\u001b[0m\u001b[1;33m,\u001b[0m\u001b[0my_train\u001b[0m\u001b[1;33m)\u001b[0m\u001b[1;33m\u001b[0m\u001b[1;33m\u001b[0m\u001b[0m\n\u001b[0;32m     24\u001b[0m \u001b[0my_pred_test\u001b[0m \u001b[1;33m=\u001b[0m \u001b[0mmodel\u001b[0m\u001b[1;33m.\u001b[0m\u001b[0mpredict\u001b[0m\u001b[1;33m(\u001b[0m\u001b[0mX_important_test\u001b[0m\u001b[1;33m)\u001b[0m\u001b[1;33m\u001b[0m\u001b[1;33m\u001b[0m\u001b[0m\n",
            "\u001b[1;31mKeyError\u001b[0m: 'n_est'"
          ]
        }
      ]
    },
    {
      "cell_type": "code",
      "metadata": {
        "id": "fkHcO9MhHGna",
        "colab_type": "code",
        "colab": {},
        "outputId": "b826bac2-45c5-4e23-82cd-6463a637862e"
      },
      "source": [
        "from sklearn.model_selection import KFold, GridSearchCV\n",
        "from sklearn.feature_selection import SelectKBest, chi2\n",
        "from sklearn.metrics import accuracy_score, make_scorer\n",
        "# Define our search space for grid search\n",
        "search_space = [\n",
        "  {\n",
        "    'clf__n_estimators': [50, 100, 150, 200],\n",
        "    'clf__learning_rate': [0.01, 0.1, 0.2, 0.3],\n",
        "    'clf__max_depth': range(3, 10),\n",
        "    'clf__colsample_bytree': [i/10.0 for i in range(1, 3)],\n",
        "    'clf__gamma': [i/10.0 for i in range(3)],\n",
        "    'fs__score_func': [chi2],\n",
        "    'fs__k': [10],\n",
        "  }\n",
        "]\n",
        "# Define cross validation\n",
        "kfold = KFold(n_splits=10, random_state=42)\n",
        "# AUC and accuracy as score\n",
        "scoring = {'AUC':'roc_auc', 'Accuracy':make_scorer(accuracy_score)}\n",
        "# Define grid search\n",
        "grid = GridSearchCV(\n",
        "  pipe,\n",
        "  param_grid=search_space,\n",
        "  cv=kfold,\n",
        "  scoring=scoring,\n",
        "  refit='AUC',\n",
        "  verbose=1,\n",
        "  n_jobs=-1\n",
        ")\n",
        "# Fit grid search\n",
        "model = grid.fit(X_train, y_train)"
      ],
      "execution_count": 0,
      "outputs": [
        {
          "output_type": "error",
          "ename": "NameError",
          "evalue": "name 'pipe' is not defined",
          "traceback": [
            "\u001b[1;31m---------------------------------------------------------------------------\u001b[0m",
            "\u001b[1;31mNameError\u001b[0m                                 Traceback (most recent call last)",
            "\u001b[1;32m<ipython-input-68-5f91454050ee>\u001b[0m in \u001b[0;36m<module>\u001b[1;34m\u001b[0m\n\u001b[0;32m     20\u001b[0m \u001b[1;31m# Define grid search\u001b[0m\u001b[1;33m\u001b[0m\u001b[1;33m\u001b[0m\u001b[1;33m\u001b[0m\u001b[0m\n\u001b[0;32m     21\u001b[0m grid = GridSearchCV(\n\u001b[1;32m---> 22\u001b[1;33m   \u001b[0mpipe\u001b[0m\u001b[1;33m,\u001b[0m\u001b[1;33m\u001b[0m\u001b[1;33m\u001b[0m\u001b[0m\n\u001b[0m\u001b[0;32m     23\u001b[0m   \u001b[0mparam_grid\u001b[0m\u001b[1;33m=\u001b[0m\u001b[0msearch_space\u001b[0m\u001b[1;33m,\u001b[0m\u001b[1;33m\u001b[0m\u001b[1;33m\u001b[0m\u001b[0m\n\u001b[0;32m     24\u001b[0m   \u001b[0mcv\u001b[0m\u001b[1;33m=\u001b[0m\u001b[0mkfold\u001b[0m\u001b[1;33m,\u001b[0m\u001b[1;33m\u001b[0m\u001b[1;33m\u001b[0m\u001b[0m\n",
            "\u001b[1;31mNameError\u001b[0m: name 'pipe' is not defined"
          ]
        }
      ]
    },
    {
      "cell_type": "code",
      "metadata": {
        "id": "Yjpu9mvAHGnc",
        "colab_type": "code",
        "colab": {}
      },
      "source": [
        "print(pred)"
      ],
      "execution_count": 0,
      "outputs": []
    },
    {
      "cell_type": "code",
      "metadata": {
        "id": "_Ahew8LgBkYz",
        "colab_type": "code",
        "colab": {}
      },
      "source": [
        "from sklearn.metrics import confusion_matrix\n",
        "\n",
        "con_matrix = confusion_matrix(y_pred_train_model_1, y_train)\n",
        "\n",
        "tp, fp, fn, tn = con_matrix.ravel()\n",
        "\n",
        "print(con_matrix)\n",
        "print(tp, fp, fn, tn)\n",
        "precision = tp/(tp+fp)\n",
        "print(\"precision = \", precision)\n",
        "\n",
        "recall = tp/(tp+fn)\n",
        "print(\"recall = \", recall)\n",
        "\n",
        "f1 = (2*recall*precision)/(recall+precision)\n",
        "print(\"f1 = \",f1)\n"
      ],
      "execution_count": 0,
      "outputs": []
    },
    {
      "cell_type": "code",
      "metadata": {
        "id": "UvpgHFOBHGng",
        "colab_type": "code",
        "colab": {}
      },
      "source": [
        ""
      ],
      "execution_count": 0,
      "outputs": []
    }
  ]
}